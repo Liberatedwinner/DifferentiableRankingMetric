{
 "cells": [
  {
   "cell_type": "code",
   "execution_count": 1,
   "metadata": {},
   "outputs": [],
   "source": [
    "import pandas as pd\n",
    "import numpy as np\n",
    "import os\n",
    "os.environ['MKL_NUM_THREADS'] = '1'\n",
    "from collections import Counter\n",
    "import itertools\n",
    "import json\n",
    "import scipy.sparse as sparse\n",
    "import pickle\n",
    "import torch\n",
    "import misc.util as util\n",
    "from torch import nn\n",
    "\n",
    "import importlib\n",
    "from torch.utils.data import DataLoader\n",
    "from misc.loader import AEDataset\n",
    "from misc.util import *\n",
    "from tqdm.auto import tqdm\n",
    "from eval.rec_eval import *\n",
    "import neuralsort.pl as pl\n",
    "from models.loss import neuPrecLoss\n",
    "from misc.loader import RecDataset\n",
    "import models\n",
    "from models.loss import *\n",
    "from sklearn.utils import shuffle"
   ]
  },
  {
   "cell_type": "code",
   "execution_count": 2,
   "metadata": {},
   "outputs": [],
   "source": [
    "dataset_name = 'ml-1m-l-1-100'"
   ]
  },
  {
   "cell_type": "code",
   "execution_count": 3,
   "metadata": {},
   "outputs": [],
   "source": [
    "import pickle\n",
    "with open(\"data/parsed/%s\" % dataset_name, 'rb') as f:\n",
    "    tr, val = pickle.load(f)"
   ]
  },
  {
   "cell_type": "code",
   "execution_count": 4,
   "metadata": {},
   "outputs": [
    {
     "data": {
      "text/plain": [
       "(6034, 2811)"
      ]
     },
     "execution_count": 4,
     "metadata": {},
     "output_type": "execute_result"
    }
   ],
   "source": [
    "tr.shape"
   ]
  },
  {
   "cell_type": "code",
   "execution_count": 5,
   "metadata": {},
   "outputs": [
    {
     "data": {
      "text/plain": [
       "<module 'misc.loader' from '/Users/ita/Dropbox/code/neurank/code/misc/loader.py'>"
      ]
     },
     "execution_count": 5,
     "metadata": {},
     "output_type": "execute_result"
    }
   ],
   "source": [
    "import models.mf\n",
    "import importlib\n",
    "import misc.loader\n",
    "importlib.reload(models.mf)\n",
    "importlib.reload(misc.loader)"
   ]
  },
  {
   "cell_type": "code",
   "execution_count": 6,
   "metadata": {},
   "outputs": [],
   "source": [
    "dset = misc.loader.RecDataset(tr)\n",
    "loader = DataLoader(dset, batch_size=2048, shuffle=True, num_workers=8)\n",
    "for i, x in enumerate(loader):\n",
    "    u, i, j = x\n",
    "    break"
   ]
  },
  {
   "cell_type": "code",
   "execution_count": 7,
   "metadata": {},
   "outputs": [],
   "source": [
    "model = models.mf.mfrec(*tr.shape)"
   ]
  },
  {
   "cell_type": "code",
   "execution_count": 8,
   "metadata": {},
   "outputs": [],
   "source": [
    "r = model(u, i, j)"
   ]
  },
  {
   "cell_type": "code",
   "execution_count": 9,
   "metadata": {},
   "outputs": [
    {
     "data": {
      "text/plain": [
       "<module 'models.neuralsort' from '/Users/ita/Dropbox/code/neurank/code/models/neuralsort.py'>"
      ]
     },
     "execution_count": 9,
     "metadata": {},
     "output_type": "execute_result"
    }
   ],
   "source": [
    "import models.neuralsort\n",
    "importlib.reload(models.neuralsort)"
   ]
  },
  {
   "cell_type": "code",
   "execution_count": 10,
   "metadata": {
    "scrolled": true
   },
   "outputs": [
    {
     "data": {
      "text/plain": [
       "array([  36,  326, 1367,  154,  108, 1329, 2741, 2491, 1677,  258, 1184,\n",
       "       2520,  112, 2416, 1995,  859, 2111, 2304,   42, 1973,  652, 1561,\n",
       "        925, 2341,  563, 2604, 2203,  945, 1962, 1804, 2625,  789, 1337,\n",
       "       2003, 1984, 2591, 1239,  996,  732, 1362, 1301,   29,  409,  922,\n",
       "       2709,  297,  119, 1669,  202, 1433, 1933, 2635, 2056,  269,  112,\n",
       "       2254,  114,  611, 2127,  773,  935, 1948,  597,  180, 2203,   53,\n",
       "        402, 2358,  115, 2220, 1534,  737, 2742, 2205, 1978,  614, 1580,\n",
       "       1196, 1493,  944, 2778, 2597, 1253, 1902,  489, 1172, 1820, 1924,\n",
       "       1479,  381, 1942,  996,  617, 2403,  353, 1393,  485, 1518, 2374,\n",
       "       2539], dtype=int32)"
      ]
     },
     "execution_count": 10,
     "metadata": {},
     "output_type": "execute_result"
    }
   ],
   "source": [
    "val[0]"
   ]
  },
  {
   "cell_type": "code",
   "execution_count": 11,
   "metadata": {},
   "outputs": [
    {
     "data": {
      "text/plain": [
       "array([-0.33695596, -0.31838104, -0.28122538, -0.34366965, -0.23285285,\n",
       "       -0.3109648 , -0.32853332, -0.3289242 , -0.22991976, -0.37208927,\n",
       "       -0.24132055, -0.2941813 , -0.32621798, -0.44292116, -0.28945875,\n",
       "       -0.3362897 , -0.30960107, -0.21832374, -0.19975227, -0.36006117,\n",
       "       -0.28442687, -0.4129879 , -0.36073166, -0.32514206, -0.25009775,\n",
       "       -0.34351632, -0.25892526, -0.17259684, -0.3570848 , -0.3251905 ,\n",
       "       -0.2010753 , -0.22881794, -0.35180494, -0.32921216, -0.3298677 ,\n",
       "       -0.2722623 , -0.33458394, -0.31946203, -0.28045815, -0.21363012,\n",
       "       -0.44525456, -0.22865492, -0.33605614, -0.3543511 , -0.23016697,\n",
       "       -0.41400906, -0.1989606 , -0.2580688 , -0.31335127, -0.38501006,\n",
       "       -0.3040734 , -0.32426727, -0.14592464, -0.24491836, -0.32621798,\n",
       "       -0.33035368, -0.26311517, -0.3190806 , -0.27301794, -0.28437895,\n",
       "       -0.37871084, -0.2682964 , -0.30563515, -0.38559058, -0.25892526,\n",
       "       -0.33617312, -0.2958508 , -0.28746572, -0.2578489 , -0.25382137,\n",
       "       -0.39387968, -0.3009637 , -0.25045213, -0.33668077, -0.4000592 ,\n",
       "       -0.29012078, -0.28276122, -0.24561231, -0.20594372, -0.30537862,\n",
       "       -0.20766293, -0.24980165, -0.35740858, -0.33911088, -0.30125332,\n",
       "       -0.36694345, -0.22136152, -0.32255915, -0.36949727, -0.3908897 ,\n",
       "       -0.22974524, -0.31946203, -0.27980453, -0.30919725, -0.41828528,\n",
       "       -0.20967251, -0.28948057, -0.34180933, -0.28064632, -0.31283435],\n",
       "      dtype=float32)"
      ]
     },
     "execution_count": 11,
     "metadata": {},
     "output_type": "execute_result"
    }
   ],
   "source": [
    "model.predict(0, val[0])"
   ]
  },
  {
   "cell_type": "code",
   "execution_count": 12,
   "metadata": {},
   "outputs": [
    {
     "data": {
      "text/plain": [
       "{'precision': 0.047232350016572756,\n",
       " 'map': 0.02204452546679925,\n",
       " 'ndcg': 0.028193001931852795}"
      ]
     },
     "execution_count": 12,
     "metadata": {},
     "output_type": "execute_result"
    }
   ],
   "source": [
    "leave_k_eval(model, tr, val, leavek=1, K=5)"
   ]
  },
  {
   "cell_type": "code",
   "execution_count": 13,
   "metadata": {},
   "outputs": [
    {
     "data": {
      "text/plain": [
       "array([-0.32316136, -0.35620803, -0.31305772, -0.25639752, -0.33693746,\n",
       "       -0.42032105, -0.33492276, -0.31180927, -0.37709266, -0.45499116,\n",
       "       -0.3487684 , -0.40809727, -0.46335837, -0.39495432, -0.2388192 ,\n",
       "       -0.25863945, -0.22911467, -0.37999   , -0.3396332 , -0.2388192 ,\n",
       "       -0.26304066, -0.399331  , -0.28320637, -0.25945947, -0.4592467 ,\n",
       "       -0.3045873 , -0.42373726, -0.3346524 , -0.3717785 , -0.29744682,\n",
       "       -0.31219342, -0.32798487, -0.41286182, -0.28778163, -0.30139583,\n",
       "       -0.3174459 , -0.3498651 , -0.32392594, -0.34584296, -0.29266137,\n",
       "       -0.2782405 , -0.36220303, -0.36714494, -0.34518278, -0.32607743,\n",
       "       -0.33713993, -0.43702593, -0.41253713, -0.35926   , -0.29493457,\n",
       "       -0.37164947, -0.2430844 , -0.38780895, -0.33432162, -0.40103608,\n",
       "       -0.38433492, -0.39328846, -0.33885998, -0.30833665, -0.34052247,\n",
       "       -0.46606338, -0.2596262 , -0.26589465, -0.37664706, -0.22206849,\n",
       "       -0.39169   , -0.4632836 , -0.44875202, -0.4304592 , -0.3794742 ,\n",
       "       -0.36882854, -0.28725702, -0.43040287, -0.40592694, -0.30277336,\n",
       "       -0.4007533 , -0.30374578, -0.281611  , -0.30201736, -0.37715125,\n",
       "       -0.31008556, -0.33061036, -0.30386126, -0.38947675, -0.337694  ,\n",
       "       -0.2917214 , -0.37203676, -0.2733609 , -0.33285412, -0.30364838,\n",
       "       -0.45134786, -0.26330525, -0.2699529 , -0.28148088, -0.25809538,\n",
       "       -0.3663082 , -0.3735625 , -0.2927753 , -0.2982102 , -0.3594877 ],\n",
       "      dtype=float32)"
      ]
     },
     "execution_count": 13,
     "metadata": {},
     "output_type": "execute_result"
    }
   ],
   "source": [
    "model.predict(3, val[10])"
   ]
  },
  {
   "cell_type": "code",
   "execution_count": null,
   "metadata": {},
   "outputs": [],
   "source": []
  }
 ],
 "metadata": {
  "kernelspec": {
   "display_name": "Python 3",
   "language": "python",
   "name": "python3"
  },
  "language_info": {
   "codemirror_mode": {
    "name": "ipython",
    "version": 3
   },
   "file_extension": ".py",
   "mimetype": "text/x-python",
   "name": "python",
   "nbconvert_exporter": "python",
   "pygments_lexer": "ipython3",
   "version": "3.7.3"
  }
 },
 "nbformat": 4,
 "nbformat_minor": 4
}
