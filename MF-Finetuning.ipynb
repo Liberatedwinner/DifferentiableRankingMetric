{
 "cells": [
  {
   "cell_type": "code",
   "execution_count": 1,
   "metadata": {},
   "outputs": [],
   "source": [
    "import pandas as pd\n",
    "import numpy as np\n",
    "import os\n",
    "os.environ['MKL_NUM_THREADS'] = '1'\n",
    "from collections import Counter\n",
    "import itertools\n",
    "import json\n",
    "import scipy.sparse as sparse\n",
    "import pickle\n",
    "import torch\n",
    "import misc.util as util\n",
    "from torch import nn\n",
    "\n",
    "import importlib\n",
    "from torch.utils.data import DataLoader\n",
    "from misc.loader import AEDataset\n",
    "from misc.util import *\n",
    "from tqdm.auto import tqdm\n",
    "from eval.rec_eval import *\n",
    "import neuralsort.pl as pl\n",
    "from models.loss import neuPrecLoss\n",
    "from misc.loader import RecDataset\n",
    "import models\n",
    "from models.loss import *\n",
    "import models.mf\n",
    "import models.mf\n",
    "import neuralsort.neuralobjs"
   ]
  },
  {
   "cell_type": "code",
   "execution_count": 2,
   "metadata": {},
   "outputs": [],
   "source": [
    "with open(os.path.join(\"data\", \"parsed\", \"ml-20m\"), 'rb') as f:\n",
    "    a,b,c, tr_tr, tr_val, te = pickle.load(f)"
   ]
  },
  {
   "cell_type": "code",
   "execution_count": 7,
   "metadata": {},
   "outputs": [
    {
     "name": "stdout",
     "output_type": "stream",
     "text": [
      "total 985820\r\n",
      "drwxrwxr-x 2 ita ita      4096  7월 21 23:36 .\r\n",
      "drwxrwxr-x 5 ita ita      4096  7월 20 00:28 ..\r\n",
      "-rw-rw-r-- 1 ita ita 336018978  7월 24 12:10 dae_ndcg5\r\n",
      "-rw-rw-r-- 1 ita ita 336018978  7월 24 12:10 dae_prec5\r\n",
      "-rw-rw-r-- 1 ita ita 168045090  7월 24 13:39 dae_rc50\r\n",
      "-rw-rw-r-- 1 ita ita  29666020  7월 22 07:10 vae_ndcg5\r\n",
      "-rw-rw-r-- 1 ita ita  29666020  7월 22 07:10 vae_prec5\r\n",
      "-rw-rw-r-- 1 ita ita  29666013  7월 22 06:27 vae_rc50\r\n",
      "-rw-rw-r-- 1 ita ita  26789773  7월 22 00:26 wmf_ndcg5\r\n",
      "-rw-rw-r-- 1 ita ita  26793691  7월 22 00:25 wmf_prec5\r\n",
      "-rw-rw-r-- 1 ita ita  26784097  7월 22 00:26 wmf_rc50\r\n"
     ]
    }
   ],
   "source": [
    "!ls -al saved_models/ml-20m"
   ]
  },
  {
   "cell_type": "code",
   "execution_count": 8,
   "metadata": {},
   "outputs": [],
   "source": [
    "best_model = torch.load(\"saved_models/ml-20m/wmf_prec5\")"
   ]
  },
  {
   "cell_type": "code",
   "execution_count": 9,
   "metadata": {},
   "outputs": [],
   "source": [
    "ae_dataset = AEDataset(tr_tr)"
   ]
  },
  {
   "cell_type": "code",
   "execution_count": 15,
   "metadata": {},
   "outputs": [
    {
     "name": "stdout",
     "output_type": "stream",
     "text": [
      "{'precision': 0.06289999999999984, 'recall': 0.06125415651886377, 'map': 0.11893097222222339, 'ndcg': 0.07423875357580718}\n",
      "{'precision': 0.054770000000001665, 'recall': 0.09992439818876335, 'map': 0.12580026114890383, 'ndcg': 0.08783206817564923}\n"
     ]
    }
   ],
   "source": [
    "model = models.mf.mfrec(*tr_tr.shape, emb_size= best_model['item_factors'].shape[-1]).cuda()\n",
    "model.u_emb.weight.data.copy_(torch.from_numpy(best_model['user_factors']))\n",
    "model.i_emb.weight.data.copy_(torch.from_numpy(best_model['item_factors']))\n",
    "print(ranking_metrics_at_k(model, tr_tr, te, K=5, num_threads=4))\n",
    "print(ranking_metrics_at_k(model, tr_tr, te, K=10, num_threads=4))"
   ]
  },
  {
   "cell_type": "code",
   "execution_count": 13,
   "metadata": {},
   "outputs": [],
   "source": [
    "importlib.reload(models.mf)\n",
    "loader = DataLoader(ae_dataset, batch_size=128, shuffle=True, num_workers=6)\n",
    "model = models.mf.mfrec(*tr_tr.shape, emb_size= best_model['item_factors'].shape[-1]).cuda()\n",
    "model.u_emb.weight.data.copy_(torch.from_numpy(best_model['user_factors']))\n",
    "model.i_emb.weight.data.copy_(torch.from_numpy(best_model['item_factors']))\n",
    "optimizer = torch.optim.RMSprop(model.parameters(), lr=1 * 1e-5, weight_decay=0)\n",
    "sc = neuralsort.neuralobjs.SC()\n",
    "import models.lrloss as lrloss"
   ]
  },
  {
   "cell_type": "code",
   "execution_count": 14,
   "metadata": {},
   "outputs": [
    {
     "data": {
      "application/vnd.jupyter.widget-view+json": {
       "model_id": "83c35ef95b9b472480a96ae7cf35cffd",
       "version_major": 2,
       "version_minor": 0
      },
      "text/plain": [
       "HBox(children=(FloatProgress(value=0.0, max=1068.0), HTML(value='')))"
      ]
     },
     "metadata": {},
     "output_type": "display_data"
    },
    {
     "name": "stdout",
     "output_type": "stream",
     "text": [
      "\n",
      "{'precision': 0.06373999999999991, 'recall': 0.0640980881736164, 'map': 0.12623319444444547, 'ndcg': 0.07744373214625845}\n",
      "{'precision': 0.06552000000000018, 'recall': 0.06299061051305847, 'map': 0.12382902777777884, 'ndcg': 0.07709887504301007}\n",
      "{'precision': 0.05629000000000173, 'recall': 0.10190941270776055, 'map': 0.13124878533635684, 'ndcg': 0.0902798910836943}\n"
     ]
    },
    {
     "data": {
      "application/vnd.jupyter.widget-view+json": {
       "model_id": "10a7dd97902648e88d2f341e34e00ebc",
       "version_major": 2,
       "version_minor": 0
      },
      "text/plain": [
       "HBox(children=(FloatProgress(value=0.0, max=1068.0), HTML(value='')))"
      ]
     },
     "metadata": {},
     "output_type": "display_data"
    },
    {
     "name": "stdout",
     "output_type": "stream",
     "text": [
      "\n",
      "{'precision': 0.06570000000000012, 'recall': 0.06496578413660888, 'map': 0.13009263888888992, 'ndcg': 0.07929501875332638}\n",
      "{'precision': 0.06634000000000029, 'recall': 0.06313218365422817, 'map': 0.12678722222222322, 'ndcg': 0.07800259116008855}\n",
      "{'precision': 0.05695000000000193, 'recall': 0.10287182086188827, 'map': 0.13368090929705173, 'ndcg': 0.09112916718634595}\n"
     ]
    },
    {
     "data": {
      "application/vnd.jupyter.widget-view+json": {
       "model_id": "81b0386282174b2f9cea977cff502916",
       "version_major": 2,
       "version_minor": 0
      },
      "text/plain": [
       "HBox(children=(FloatProgress(value=0.0, max=1068.0), HTML(value='')))"
      ]
     },
     "metadata": {},
     "output_type": "display_data"
    },
    {
     "name": "stdout",
     "output_type": "stream",
     "text": [
      "\n",
      "{'precision': 0.06626000000000011, 'recall': 0.06472269353503209, 'map': 0.13272638888889018, 'ndcg': 0.07981093004893332}\n",
      "{'precision': 0.06640000000000024, 'recall': 0.06291374925444006, 'map': 0.1295416666666675, 'ndcg': 0.07850866341162986}\n",
      "{'precision': 0.05669000000000203, 'recall': 0.10172465338152772, 'map': 0.13654796712018097, 'ndcg': 0.09104409700706467}\n"
     ]
    },
    {
     "data": {
      "application/vnd.jupyter.widget-view+json": {
       "model_id": "c5053ea2e0844da4b0d82f6fd107e11c",
       "version_major": 2,
       "version_minor": 0
      },
      "text/plain": [
       "HBox(children=(FloatProgress(value=0.0, max=1068.0), HTML(value='')))"
      ]
     },
     "metadata": {},
     "output_type": "display_data"
    },
    {
     "name": "stdout",
     "output_type": "stream",
     "text": [
      "\n",
      "{'precision': 0.06614000000000016, 'recall': 0.0638515244131565, 'map': 0.13355375000000108, 'ndcg': 0.07961361472140963}\n",
      "{'precision': 0.0658600000000002, 'recall': 0.06202572118309059, 'map': 0.13032000000000077, 'ndcg': 0.07809392790919469}\n",
      "{'precision': 0.05631000000000206, 'recall': 0.10021200470651885, 'map': 0.13807607823129217, 'ndcg': 0.09027882214159944}\n"
     ]
    }
   ],
   "source": [
    "last_prec = -1\n",
    "for epoch in (range(1, 10 + 1)):\n",
    "    tot_loss = 0\n",
    "    for uid, rowl in tqdm(loader):\n",
    "        row = rowl.float().cuda()\n",
    "        uid = uid.cuda() \n",
    "        scores = model.fow2(uid)\n",
    "        #y_hat, indices = torch.topk(scores, 300)\n",
    "        #y_true = row.gather(1, indices)\n",
    "        #loss  = lrloss.approxNDCGLoss(y_hat, y_true)\n",
    "        loss  = neuPrecLoss(sc, scores, row, topk=300, k=3, tau=20.0, use_top=True).mean()\n",
    "        loss.backward()\n",
    "        optimizer.step()\n",
    "\n",
    "        \n",
    "    if (epoch % 1 == 0):\n",
    "        metric = ranking_metrics_at_k(model, tr_tr, tr_val, K=5, num_threads=4)\n",
    "        print(metric)\n",
    "        pp = metric['precision']\n",
    "        print(ranking_metrics_at_k(model, tr_tr, te, K=5, num_threads=4))\n",
    "        print(ranking_metrics_at_k(model, tr_tr, te, K=10, num_threads=4))\n",
    "        if pp < last_prec:\n",
    "            break\n",
    "        last_prec = pp \n",
    "        \n",
    "        "
   ]
  },
  {
   "cell_type": "code",
   "execution_count": 1,
   "metadata": {},
   "outputs": [
    {
     "ename": "NameError",
     "evalue": "name 'DataLoader' is not defined",
     "output_type": "error",
     "traceback": [
      "\u001b[0;31m---------------------------------------------------------------------------\u001b[0m",
      "\u001b[0;31mNameError\u001b[0m                                 Traceback (most recent call last)",
      "\u001b[0;32m<ipython-input-1-20e4dc59584e>\u001b[0m in \u001b[0;36m<module>\u001b[0;34m\u001b[0m\n\u001b[1;32m      1\u001b[0m \u001b[0;32mimport\u001b[0m \u001b[0mmodels\u001b[0m\u001b[0;34m.\u001b[0m\u001b[0mmf\u001b[0m\u001b[0;34m\u001b[0m\u001b[0;34m\u001b[0m\u001b[0m\n\u001b[1;32m      2\u001b[0m \u001b[0;32mimport\u001b[0m \u001b[0mneuralsort\u001b[0m\u001b[0;34m.\u001b[0m\u001b[0mneuralobjs\u001b[0m\u001b[0;34m\u001b[0m\u001b[0;34m\u001b[0m\u001b[0m\n\u001b[0;32m----> 3\u001b[0;31m \u001b[0mloader\u001b[0m \u001b[0;34m=\u001b[0m \u001b[0mDataLoader\u001b[0m\u001b[0;34m(\u001b[0m\u001b[0mae_dataset\u001b[0m\u001b[0;34m,\u001b[0m \u001b[0mbatch_size\u001b[0m\u001b[0;34m=\u001b[0m\u001b[0;36m128\u001b[0m\u001b[0;34m,\u001b[0m \u001b[0mshuffle\u001b[0m\u001b[0;34m=\u001b[0m\u001b[0;32mTrue\u001b[0m\u001b[0;34m,\u001b[0m \u001b[0mnum_workers\u001b[0m\u001b[0;34m=\u001b[0m\u001b[0;36m6\u001b[0m\u001b[0;34m)\u001b[0m\u001b[0;34m\u001b[0m\u001b[0;34m\u001b[0m\u001b[0m\n\u001b[0m\u001b[1;32m      4\u001b[0m \u001b[0mmodel\u001b[0m \u001b[0;34m=\u001b[0m \u001b[0mmodels\u001b[0m\u001b[0;34m.\u001b[0m\u001b[0mmf\u001b[0m\u001b[0;34m.\u001b[0m\u001b[0mmfrec\u001b[0m\u001b[0;34m(\u001b[0m\u001b[0;34m*\u001b[0m\u001b[0mtr_tr\u001b[0m\u001b[0;34m.\u001b[0m\u001b[0mshape\u001b[0m\u001b[0;34m,\u001b[0m \u001b[0memb_size\u001b[0m\u001b[0;34m=\u001b[0m\u001b[0mpt_wmf\u001b[0m\u001b[0;34m[\u001b[0m\u001b[0;34m'user_factors'\u001b[0m\u001b[0;34m]\u001b[0m\u001b[0;34m.\u001b[0m\u001b[0mshape\u001b[0m\u001b[0;34m[\u001b[0m\u001b[0;36m1\u001b[0m\u001b[0;34m]\u001b[0m\u001b[0;34m)\u001b[0m\u001b[0;34m.\u001b[0m\u001b[0mcuda\u001b[0m\u001b[0;34m(\u001b[0m\u001b[0;34m)\u001b[0m\u001b[0;34m\u001b[0m\u001b[0;34m\u001b[0m\u001b[0m\n\u001b[1;32m      5\u001b[0m \u001b[0mmodel\u001b[0m\u001b[0;34m.\u001b[0m\u001b[0mu_emb\u001b[0m\u001b[0;34m.\u001b[0m\u001b[0mweight\u001b[0m\u001b[0;34m.\u001b[0m\u001b[0mdata\u001b[0m\u001b[0;34m.\u001b[0m\u001b[0mcopy_\u001b[0m\u001b[0;34m(\u001b[0m\u001b[0mtorch\u001b[0m\u001b[0;34m.\u001b[0m\u001b[0mfrom_numpy\u001b[0m\u001b[0;34m(\u001b[0m\u001b[0mpt_wmf\u001b[0m\u001b[0;34m[\u001b[0m\u001b[0;34m'user_factors'\u001b[0m\u001b[0;34m]\u001b[0m\u001b[0;34m)\u001b[0m\u001b[0;34m)\u001b[0m\u001b[0;34m\u001b[0m\u001b[0;34m\u001b[0m\u001b[0m\n",
      "\u001b[0;31mNameError\u001b[0m: name 'DataLoader' is not defined"
     ]
    }
   ],
   "source": [
    "import models.mf\n",
    "import neuralsort.neuralobjs\n",
    "loader = DataLoader(ae_dataset, batch_size=128, shuffle=True, num_workers=6)\n",
    "model = models.mf.mfrec(*tr_tr.shape, emb_size=pt_wmf['user_factors'].shape[1]).cuda()\n",
    "model.u_emb.weight.data.copy_(torch.from_numpy(pt_wmf['user_factors']))\n",
    "model.i_emb.weight.data.copy_(torch.from_numpy(pt_wmf['wmf_item_factors']))\n",
    "print(ranking_metrics_at_k(model, tr_tr, tr_val, K=30, num_threads=4))\n",
    "optimizer = torch.optim.Adam(model.parameters(), lr=1 * 1e-6, weight_decay=1e-2)\n",
    "sc = neuralsort.neuralobjs.SC()"
   ]
  },
  {
   "cell_type": "code",
   "execution_count": null,
   "metadata": {
    "scrolled": true
   },
   "outputs": [],
   "source": [
    "for epoch in (range(1, 30 + 1)):\n",
    "    tot_loss = 0\n",
    "    for uid, rowl in tqdm(loader):\n",
    "        row = rowl.float().cuda()\n",
    "        uid = uid.cuda() \n",
    "        scores = model.forward(uid)\n",
    "        loss  = neuPrecLoss(sc, scores, row, topk=500, k=10, tau=15.0, use_top=True).mean()\n",
    "        loss.backward()\n",
    "        optimizer.step()\n",
    "    if (epoch % 1 == 0):\n",
    "        print(ranking_metrics_at_k(model, tr_tr, tr_val, K=30, num_threads=4))"
   ]
  },
  {
   "cell_type": "code",
   "execution_count": null,
   "metadata": {},
   "outputs": [],
   "source": [
    "row.shape"
   ]
  },
  {
   "cell_type": "code",
   "execution_count": null,
   "metadata": {},
   "outputs": [],
   "source": [
    "rd = torch.randint(row.shape[0], row.shape[1], size=(256, 1234))"
   ]
  },
  {
   "cell_type": "code",
   "execution_count": null,
   "metadata": {},
   "outputs": [],
   "source": [
    "_row = row.gather(1, rd.cuda())\n",
    "_score = scores.gather(1, rd.cuda())"
   ]
  },
  {
   "cell_type": "code",
   "execution_count": null,
   "metadata": {},
   "outputs": [],
   "source": [
    "_row.shape"
   ]
  },
  {
   "cell_type": "code",
   "execution_count": null,
   "metadata": {},
   "outputs": [],
   "source": [
    "_score.shape"
   ]
  },
  {
   "cell_type": "code",
   "execution_count": null,
   "metadata": {},
   "outputs": [],
   "source": []
  }
 ],
 "metadata": {
  "kernelspec": {
   "display_name": "Python 3",
   "language": "python",
   "name": "python3"
  },
  "language_info": {
   "codemirror_mode": {
    "name": "ipython",
    "version": 3
   },
   "file_extension": ".py",
   "mimetype": "text/x-python",
   "name": "python",
   "nbconvert_exporter": "python",
   "pygments_lexer": "ipython3",
   "version": "3.7.6"
  }
 },
 "nbformat": 4,
 "nbformat_minor": 2
}
