{
 "cells": [
  {
   "cell_type": "markdown",
   "metadata": {},
   "source": [
    "### Check the result of model training"
   ]
  },
  {
   "cell_type": "code",
   "execution_count": 3,
   "metadata": {},
   "outputs": [],
   "source": [
    "import torch\n",
    "import pickle\n",
    "import os"
   ]
  },
  {
   "cell_type": "code",
   "execution_count": 1,
   "metadata": {},
   "outputs": [
    {
     "name": "stdout",
     "output_type": "stream",
     "text": [
      "bpr  CML  wmf\r\n"
     ]
    }
   ],
   "source": [
    "!ls code/best_res/epinion-parsed"
   ]
  },
  {
   "cell_type": "code",
   "execution_count": 4,
   "metadata": {},
   "outputs": [],
   "source": [
    "x = torch.load(\"code/best_res/epinion-parsed/bpr\")"
   ]
  },
  {
   "cell_type": "code",
   "execution_count": 5,
   "metadata": {},
   "outputs": [
    {
     "data": {
      "text/plain": [
       "({'model': <implicit.bpr.BayesianPersonalizedRanking at 0x7f3cbe25ed10>,\n",
       "  'param': {'metric': 'recall',\n",
       "   'dim': 16,\n",
       "   'reg': 0.003,\n",
       "   'iter': 30,\n",
       "   'best': 0.05987917135073311,\n",
       "   'user_factors': array([[ 0.35212645, -0.1064327 ,  0.3110281 , ...,  0.4096723 ,\n",
       "           -0.12860914,  1.        ],\n",
       "          [ 0.41031134, -0.18512513,  0.06842876, ...,  0.36216626,\n",
       "           -0.21363273,  1.        ],\n",
       "          [-0.17025763, -0.21087426, -0.20662926, ...,  0.06477869,\n",
       "           -0.20117287,  1.        ],\n",
       "          ...,\n",
       "          [ 0.22135918, -0.5726581 ,  0.1988012 , ...,  0.03651341,\n",
       "           -0.20760128,  1.        ],\n",
       "          [ 0.13928136,  0.01630095, -0.34967062, ...,  0.2586147 ,\n",
       "            0.27831957,  1.        ],\n",
       "          [ 0.18349779, -0.2493663 , -0.47702584, ..., -0.2976187 ,\n",
       "            0.14777373,  1.        ]], dtype=float32),\n",
       "   'item_factors': array([[ 3.17499429e-01, -4.90335047e-01,  8.65611076e-01, ...,\n",
       "            1.79121506e+00, -4.94512260e-01, -7.18307972e-01],\n",
       "          [ 2.20797181e-01, -1.43740094e+00,  1.48663259e+00, ...,\n",
       "            8.90205622e-01, -3.48288894e-01, -1.12377048e+00],\n",
       "          [ 2.34997362e-01,  2.96248831e-02,  4.02548999e-01, ...,\n",
       "            8.34052444e-01, -2.24583104e-01, -5.02366781e-01],\n",
       "          ...,\n",
       "          [ 7.16744065e-02,  3.04232966e-02, -1.13981046e-01, ...,\n",
       "           -1.75279409e-01,  3.25208940e-02,  1.58248693e-01],\n",
       "          [ 1.78854577e-02, -1.13561098e-03, -9.66772139e-02, ...,\n",
       "           -6.79021627e-02,  1.39004767e-01,  7.95646906e-02],\n",
       "          [ 0.00000000e+00,  0.00000000e+00,  0.00000000e+00, ...,\n",
       "            0.00000000e+00,  0.00000000e+00,  0.00000000e+00]], dtype=float32),\n",
       "   'lr': 0.03,\n",
       "   'test_at_5': [{'precision': 0.014578157607075102,\n",
       "     'recall': 0.011014155875379619,\n",
       "     'map': 0.0081052701315048,\n",
       "     'ndcg': 0.017247632231643804}],\n",
       "   'test_at_10': [{'precision': 0.012481367385471157,\n",
       "     'recall': 0.018727182060700693,\n",
       "     'map': 0.005074216956980525,\n",
       "     'ndcg': 0.018924448806283745}],\n",
       "   'test_at_20': [{'precision': 0.01028023452250851,\n",
       "     'recall': 0.03156394933751106,\n",
       "     'map': 0.0030187497246419053,\n",
       "     'ndcg': 0.02278899024678887}],\n",
       "   'test_at_30': [{'precision': 0.00902149789658456,\n",
       "     'recall': 0.04196462277279025,\n",
       "     'map': 0.002188031594659484,\n",
       "     'ndcg': 0.025940196324878817}],\n",
       "   'test_at_50': [{'precision': 0.0075842194176688514,\n",
       "     'recall': 0.05889008300837755,\n",
       "     'map': 0.0014516919472464954,\n",
       "     'ndcg': 0.03086291755002181}]}},\n",
       " dict_keys(['model', 'param']))"
      ]
     },
     "execution_count": 5,
     "metadata": {},
     "output_type": "execute_result"
    }
   ],
   "source": [
    "x, x.keys()"
   ]
  },
  {
   "cell_type": "code",
   "execution_count": 6,
   "metadata": {},
   "outputs": [
    {
     "data": {
      "text/plain": [
       "{'precision': 0.014578157607075102,\n",
       " 'recall': 0.011014155875379619,\n",
       " 'map': 0.0081052701315048,\n",
       " 'ndcg': 0.017247632231643804}"
      ]
     },
     "execution_count": 6,
     "metadata": {},
     "output_type": "execute_result"
    }
   ],
   "source": [
    "x['param']['test_at_5'][0]"
   ]
  },
  {
   "cell_type": "code",
   "execution_count": 7,
   "metadata": {},
   "outputs": [
    {
     "data": {
      "text/plain": [
       "{'precision': 0.012481367385471157,\n",
       " 'recall': 0.018727182060700693,\n",
       " 'map': 0.005074216956980525,\n",
       " 'ndcg': 0.018924448806283745}"
      ]
     },
     "execution_count": 7,
     "metadata": {},
     "output_type": "execute_result"
    }
   ],
   "source": [
    "x['param']['test_at_10'][0]"
   ]
  },
  {
   "cell_type": "code",
   "execution_count": 8,
   "metadata": {},
   "outputs": [
    {
     "data": {
      "text/plain": [
       "{'precision': 0.01028023452250851,\n",
       " 'recall': 0.03156394933751106,\n",
       " 'map': 0.0030187497246419053,\n",
       " 'ndcg': 0.02278899024678887}"
      ]
     },
     "execution_count": 8,
     "metadata": {},
     "output_type": "execute_result"
    }
   ],
   "source": [
    "x['param']['test_at_20'][0]"
   ]
  },
  {
   "cell_type": "code",
   "execution_count": 9,
   "metadata": {},
   "outputs": [
    {
     "data": {
      "text/plain": [
       "{'precision': 0.00902149789658456,\n",
       " 'recall': 0.04196462277279025,\n",
       " 'map': 0.002188031594659484,\n",
       " 'ndcg': 0.025940196324878817}"
      ]
     },
     "execution_count": 9,
     "metadata": {},
     "output_type": "execute_result"
    }
   ],
   "source": [
    "x['param']['test_at_30'][0]"
   ]
  },
  {
   "cell_type": "code",
   "execution_count": 10,
   "metadata": {},
   "outputs": [
    {
     "data": {
      "text/plain": [
       "{'precision': 0.0075842194176688514,\n",
       " 'recall': 0.05889008300837755,\n",
       " 'map': 0.0014516919472464954,\n",
       " 'ndcg': 0.03086291755002181}"
      ]
     },
     "execution_count": 10,
     "metadata": {},
     "output_type": "execute_result"
    }
   ],
   "source": [
    "x['param']['test_at_50'][0]"
   ]
  },
  {
   "cell_type": "code",
   "execution_count": 11,
   "metadata": {},
   "outputs": [
    {
     "name": "stdout",
     "output_type": "stream",
     "text": [
      "0.014578157607075102\n",
      "0.011014155875379619\n",
      "0.0081052701315048\n",
      "0.017247632231643804\n",
      "0.012481367385471157\n",
      "0.018727182060700693\n",
      "0.005074216956980525\n",
      "0.018924448806283745\n",
      "0.01028023452250851\n",
      "0.03156394933751106\n",
      "0.0030187497246419053\n",
      "0.02278899024678887\n",
      "0.00902149789658456\n",
      "0.04196462277279025\n",
      "0.002188031594659484\n",
      "0.025940196324878817\n",
      "0.0075842194176688514\n",
      "0.05889008300837755\n",
      "0.0014516919472464954\n",
      "0.03086291755002181\n"
     ]
    }
   ],
   "source": [
    "for kk in [5, 10, 20, 30, 50]:\n",
    "    for k, v in x['param']['test_at_%d' % kk][0].items():\n",
    "        print(v)"
   ]
  }
 ],
 "metadata": {
  "kernelspec": {
   "display_name": "Python 3",
   "language": "python",
   "name": "python3"
  },
  "language_info": {
   "codemirror_mode": {
    "name": "ipython",
    "version": 3
   },
   "file_extension": ".py",
   "mimetype": "text/x-python",
   "name": "python",
   "nbconvert_exporter": "python",
   "pygments_lexer": "ipython3",
   "version": "3.7.6"
  }
 },
 "nbformat": 4,
 "nbformat_minor": 4
}
