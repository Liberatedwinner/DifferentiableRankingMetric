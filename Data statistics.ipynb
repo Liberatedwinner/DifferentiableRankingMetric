{
 "cells": [
  {
   "cell_type": "markdown",
   "metadata": {},
   "source": [
    "### Importing packages"
   ]
  },
  {
   "cell_type": "code",
   "execution_count": 19,
   "metadata": {},
   "outputs": [],
   "source": [
    "import numpy as np\n",
    "import pandas as pd\n",
    "import torch\n",
    "import pickle\n",
    "import os"
   ]
  },
  {
   "cell_type": "markdown",
   "metadata": {},
   "source": [
    "### Check the data statistics"
   ]
  },
  {
   "cell_type": "code",
   "execution_count": 20,
   "metadata": {},
   "outputs": [
    {
     "name": "stdout",
     "output_type": "stream",
     "text": [
      "epinion-parsed  melon-parsed  ml-20m-parsed  sketchfab-parsed\r\n"
     ]
    }
   ],
   "source": [
    "!ls code/data/parsed"
   ]
  },
  {
   "cell_type": "code",
   "execution_count": 21,
   "metadata": {},
   "outputs": [],
   "source": [
    "with open(\"code/data/parsed/epinion-parsed\", 'rb') as f:\n",
    "    tr, val, te = pickle.load(f)"
   ]
  },
  {
   "cell_type": "code",
   "execution_count": 22,
   "metadata": {},
   "outputs": [],
   "source": [
    "n_users, n_items = tr.shape"
   ]
  },
  {
   "cell_type": "code",
   "execution_count": 23,
   "metadata": {},
   "outputs": [],
   "source": [
    "t = (tr+val+te).tocsr()"
   ]
  },
  {
   "cell_type": "code",
   "execution_count": 24,
   "metadata": {},
   "outputs": [
    {
     "data": {
      "text/plain": [
       "(21396, 59377, 631422)"
      ]
     },
     "execution_count": 24,
     "metadata": {},
     "output_type": "execute_result"
    }
   ],
   "source": [
    "n_users, n_items, t.nnz"
   ]
  },
  {
   "cell_type": "code",
   "execution_count": 25,
   "metadata": {},
   "outputs": [
    {
     "data": {
      "text/plain": [
       "0.000497014282464858"
      ]
     },
     "execution_count": 25,
     "metadata": {},
     "output_type": "execute_result"
    }
   ],
   "source": [
    "t.nnz / (n_users*n_items)"
   ]
  },
  {
   "cell_type": "code",
   "execution_count": 26,
   "metadata": {},
   "outputs": [],
   "source": [
    "t.data[:] = 1"
   ]
  },
  {
   "cell_type": "code",
   "execution_count": 27,
   "metadata": {},
   "outputs": [],
   "source": [
    "avg_consumed_items_per_user = t.sum(1).A1.ravel().mean()"
   ]
  },
  {
   "cell_type": "code",
   "execution_count": 28,
   "metadata": {},
   "outputs": [],
   "source": [
    "avg_consumed_users_per_item = t.sum(0).A1.ravel().mean()"
   ]
  },
  {
   "cell_type": "code",
   "execution_count": 29,
   "metadata": {},
   "outputs": [
    {
     "data": {
      "text/plain": [
       "(29.51121704991587, 10.634117587618102)"
      ]
     },
     "execution_count": 29,
     "metadata": {},
     "output_type": "execute_result"
    }
   ],
   "source": [
    "avg_consumed_items_per_user, avg_consumed_users_per_item"
   ]
  },
  {
   "cell_type": "code",
   "execution_count": 30,
   "metadata": {},
   "outputs": [],
   "source": [
    "std_items_per_user = t.sum(1).A1.ravel().std()\n",
    "std_users_per_item = t.sum(0).A1.ravel().std()"
   ]
  },
  {
   "cell_type": "code",
   "execution_count": 31,
   "metadata": {},
   "outputs": [
    {
     "data": {
      "text/plain": [
       "(55.87797105714283, 25.779544411399108)"
      ]
     },
     "execution_count": 31,
     "metadata": {},
     "output_type": "execute_result"
    }
   ],
   "source": [
    "std_items_per_user, std_users_per_item"
   ]
  },
  {
   "cell_type": "code",
   "execution_count": 32,
   "metadata": {},
   "outputs": [],
   "source": [
    "item_clickcnts = -np.sort(-t.sum(0).A1.ravel())"
   ]
  },
  {
   "cell_type": "code",
   "execution_count": 33,
   "metadata": {},
   "outputs": [
    {
     "name": "stdout",
     "output_type": "stream",
     "text": [
      "38.81\n"
     ]
    }
   ],
   "source": [
    "tot_cnt = item_clickcnts.sum()\n",
    "i = 0\n",
    "tc = 0 \n",
    "for i in range(n_items // 20):\n",
    "    tc += item_clickcnts[i]\n",
    "print(\"%0.2f\" % (100 *(tc / tot_cnt)))"
   ]
  },
  {
   "cell_type": "markdown",
   "metadata": {},
   "source": [
    "### Check the result of model training"
   ]
  },
  {
   "cell_type": "code",
   "execution_count": 59,
   "metadata": {},
   "outputs": [
    {
     "name": "stdout",
     "output_type": "stream",
     "text": [
      "bpr  wmf\r\n"
     ]
    }
   ],
   "source": [
    "!ls code/best_res/epinion-parsed"
   ]
  },
  {
   "cell_type": "code",
   "execution_count": 49,
   "metadata": {},
   "outputs": [],
   "source": [
    "x = torch.load(\"code/best_res/epinion-parsed/bpr\")"
   ]
  },
  {
   "cell_type": "code",
   "execution_count": 50,
   "metadata": {},
   "outputs": [
    {
     "data": {
      "text/plain": [
       "dict_keys(['model', 'param'])"
      ]
     },
     "execution_count": 50,
     "metadata": {},
     "output_type": "execute_result"
    }
   ],
   "source": [
    "x.keys()"
   ]
  },
  {
   "cell_type": "code",
   "execution_count": 51,
   "metadata": {},
   "outputs": [
    {
     "data": {
      "text/plain": [
       "{'precision': 0.014578157607075102,\n",
       " 'recall': 0.011014155875379619,\n",
       " 'map': 0.0081052701315048,\n",
       " 'ndcg': 0.017247632231643804}"
      ]
     },
     "execution_count": 51,
     "metadata": {},
     "output_type": "execute_result"
    }
   ],
   "source": [
    "x['param']['test_at_5'][0]"
   ]
  },
  {
   "cell_type": "code",
   "execution_count": 52,
   "metadata": {},
   "outputs": [
    {
     "data": {
      "text/plain": [
       "{'precision': 0.012481367385471157,\n",
       " 'recall': 0.018727182060700693,\n",
       " 'map': 0.005074216956980525,\n",
       " 'ndcg': 0.018924448806283745}"
      ]
     },
     "execution_count": 52,
     "metadata": {},
     "output_type": "execute_result"
    }
   ],
   "source": [
    "x['param']['test_at_10'][0]"
   ]
  },
  {
   "cell_type": "code",
   "execution_count": 53,
   "metadata": {},
   "outputs": [
    {
     "data": {
      "text/plain": [
       "{'precision': 0.01028023452250851,\n",
       " 'recall': 0.03156394933751106,\n",
       " 'map': 0.0030187497246419053,\n",
       " 'ndcg': 0.02278899024678887}"
      ]
     },
     "execution_count": 53,
     "metadata": {},
     "output_type": "execute_result"
    }
   ],
   "source": [
    "x['param']['test_at_20'][0]"
   ]
  },
  {
   "cell_type": "code",
   "execution_count": 54,
   "metadata": {},
   "outputs": [
    {
     "data": {
      "text/plain": [
       "{'precision': 0.00902149789658456,\n",
       " 'recall': 0.04196462277279025,\n",
       " 'map': 0.002188031594659484,\n",
       " 'ndcg': 0.025940196324878817}"
      ]
     },
     "execution_count": 54,
     "metadata": {},
     "output_type": "execute_result"
    }
   ],
   "source": [
    "x['param']['test_at_30'][0]"
   ]
  },
  {
   "cell_type": "code",
   "execution_count": 55,
   "metadata": {},
   "outputs": [
    {
     "data": {
      "text/plain": [
       "{'precision': 0.0075842194176688514,\n",
       " 'recall': 0.05889008300837755,\n",
       " 'map': 0.0014516919472464954,\n",
       " 'ndcg': 0.03086291755002181}"
      ]
     },
     "execution_count": 55,
     "metadata": {},
     "output_type": "execute_result"
    }
   ],
   "source": [
    "x['param']['test_at_50'][0]"
   ]
  },
  {
   "cell_type": "code",
   "execution_count": 56,
   "metadata": {},
   "outputs": [
    {
     "name": "stdout",
     "output_type": "stream",
     "text": [
      "0.014578157607075102\n",
      "0.011014155875379619\n",
      "0.0081052701315048\n",
      "0.017247632231643804\n",
      "0.012481367385471157\n",
      "0.018727182060700693\n",
      "0.005074216956980525\n",
      "0.018924448806283745\n",
      "0.01028023452250851\n",
      "0.03156394933751106\n",
      "0.0030187497246419053\n",
      "0.02278899024678887\n",
      "0.00902149789658456\n",
      "0.04196462277279025\n",
      "0.002188031594659484\n",
      "0.025940196324878817\n",
      "0.0075842194176688514\n",
      "0.05889008300837755\n",
      "0.0014516919472464954\n",
      "0.03086291755002181\n"
     ]
    }
   ],
   "source": [
    "for kk in [5, 10, 20, 30, 50]:\n",
    "    for k, v in x['param']['test_at_%d' % kk][0].items():\n",
    "        print(v)"
   ]
  },
  {
   "cell_type": "code",
   "execution_count": null,
   "metadata": {},
   "outputs": [],
   "source": []
  }
 ],
 "metadata": {
  "kernelspec": {
   "display_name": "Python 3",
   "language": "python",
   "name": "python3"
  },
  "language_info": {
   "codemirror_mode": {
    "name": "ipython",
    "version": 3
   },
   "file_extension": ".py",
   "mimetype": "text/x-python",
   "name": "python",
   "nbconvert_exporter": "python",
   "pygments_lexer": "ipython3",
   "version": "3.7.6"
  }
 },
 "nbformat": 4,
 "nbformat_minor": 4
}
