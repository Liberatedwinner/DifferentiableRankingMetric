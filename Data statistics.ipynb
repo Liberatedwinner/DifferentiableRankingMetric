{
 "cells": [
  {
   "cell_type": "code",
   "execution_count": 19,
   "metadata": {},
   "outputs": [],
   "source": [
    "import torch\n",
    "import os\n",
    "import pandas as pd\n",
    "import pickle\n",
    "import numpy as np"
   ]
  },
  {
   "cell_type": "code",
   "execution_count": 20,
   "metadata": {},
   "outputs": [
    {
     "name": "stdout",
     "output_type": "stream",
     "text": [
      "epinion-parsed  melon-parsed  ml-20m-parsed  sketchfab-parsed\r\n"
     ]
    }
   ],
   "source": [
    "ls code/data/parsed"
   ]
  },
  {
   "cell_type": "code",
   "execution_count": 21,
   "metadata": {},
   "outputs": [],
   "source": [
    "with open(\"code/data/parsed/epinion-parsed\", 'rb') as f:\n",
    "    tr, val, te = pickle.load(f)"
   ]
  },
  {
   "cell_type": "code",
   "execution_count": 22,
   "metadata": {},
   "outputs": [],
   "source": [
    "n_users, n_items = tr.shape"
   ]
  },
  {
   "cell_type": "code",
   "execution_count": 23,
   "metadata": {},
   "outputs": [],
   "source": [
    "t = (tr+val+te).tocsr()"
   ]
  },
  {
   "cell_type": "code",
   "execution_count": 24,
   "metadata": {},
   "outputs": [
    {
     "data": {
      "text/plain": [
       "(21396, 59377, 631422)"
      ]
     },
     "execution_count": 24,
     "metadata": {},
     "output_type": "execute_result"
    }
   ],
   "source": [
    "n_users, n_items, t.nnz"
   ]
  },
  {
   "cell_type": "code",
   "execution_count": 25,
   "metadata": {},
   "outputs": [
    {
     "data": {
      "text/plain": [
       "0.000497014282464858"
      ]
     },
     "execution_count": 25,
     "metadata": {},
     "output_type": "execute_result"
    }
   ],
   "source": [
    "t.nnz / (n_users*n_items)"
   ]
  },
  {
   "cell_type": "code",
   "execution_count": 26,
   "metadata": {},
   "outputs": [],
   "source": [
    "t.data[:] = 1"
   ]
  },
  {
   "cell_type": "code",
   "execution_count": 27,
   "metadata": {},
   "outputs": [],
   "source": [
    "avg_consumed_items_per_user = t.sum(1).A1.ravel().mean()"
   ]
  },
  {
   "cell_type": "code",
   "execution_count": 28,
   "metadata": {},
   "outputs": [],
   "source": [
    "avg_consumed_users_per_item = t.sum(0).A1.ravel().mean()"
   ]
  },
  {
   "cell_type": "code",
   "execution_count": 29,
   "metadata": {},
   "outputs": [
    {
     "data": {
      "text/plain": [
       "(29.51121704991587, 10.634117587618102)"
      ]
     },
     "execution_count": 29,
     "metadata": {},
     "output_type": "execute_result"
    }
   ],
   "source": [
    "avg_consumed_items_per_user, avg_consumed_users_per_item"
   ]
  },
  {
   "cell_type": "code",
   "execution_count": 30,
   "metadata": {},
   "outputs": [],
   "source": [
    "std_items_per_user = t.sum(1).A1.ravel().std()\n",
    "std_users_per_item = t.sum(0).A1.ravel().std()"
   ]
  },
  {
   "cell_type": "code",
   "execution_count": 31,
   "metadata": {},
   "outputs": [
    {
     "data": {
      "text/plain": [
       "(55.87797105714283, 25.779544411399108)"
      ]
     },
     "execution_count": 31,
     "metadata": {},
     "output_type": "execute_result"
    }
   ],
   "source": [
    "std_items_per_user, std_users_per_item"
   ]
  },
  {
   "cell_type": "code",
   "execution_count": 32,
   "metadata": {},
   "outputs": [],
   "source": [
    "item_clickcnts = -np.sort(-t.sum(0).A1.ravel())"
   ]
  },
  {
   "cell_type": "code",
   "execution_count": 33,
   "metadata": {},
   "outputs": [
    {
     "name": "stdout",
     "output_type": "stream",
     "text": [
      "38.81\n"
     ]
    }
   ],
   "source": [
    "tot_cnt = item_clickcnts.sum()\n",
    "i = 0\n",
    "tc = 0 \n",
    "for i in range(n_items // 20):\n",
    "    tc += item_clickcnts[i]\n",
    "print(\"%0.2f\" % (100 *(tc / tot_cnt)))"
   ]
  },
  {
   "cell_type": "code",
   "execution_count": 34,
   "metadata": {},
   "outputs": [
    {
     "name": "stdout",
     "output_type": "stream",
     "text": [
      "wmf\r\n"
     ]
    }
   ],
   "source": [
    "!ls code/best_res/epinion-parsed"
   ]
  },
  {
   "cell_type": "code",
   "execution_count": 35,
   "metadata": {},
   "outputs": [],
   "source": [
    "x = torch.load(\"code/best_res/epinion-parsed/wmf\")"
   ]
  },
  {
   "cell_type": "code",
   "execution_count": 36,
   "metadata": {},
   "outputs": [
    {
     "data": {
      "text/plain": [
       "dict_keys(['model', 'param'])"
      ]
     },
     "execution_count": 36,
     "metadata": {},
     "output_type": "execute_result"
    }
   ],
   "source": [
    "x.keys()"
   ]
  },
  {
   "cell_type": "code",
   "execution_count": 37,
   "metadata": {},
   "outputs": [
    {
     "data": {
      "text/plain": [
       "{'precision': 0.026761403160090822,\n",
       " 'recall': 0.024202891595266184,\n",
       " 'map': 0.015465235681870804,\n",
       " 'ndcg': 0.033605463137618447}"
      ]
     },
     "execution_count": 37,
     "metadata": {},
     "output_type": "execute_result"
    }
   ],
   "source": [
    "x['param']['test_at_5'][0]"
   ]
  },
  {
   "cell_type": "code",
   "execution_count": 39,
   "metadata": {},
   "outputs": [
    {
     "data": {
      "text/plain": [
       "{'precision': 0.022220013912353072,\n",
       " 'recall': 0.04036368437579266,\n",
       " 'map': 0.009512939512815292,\n",
       " 'ndcg': 0.03744915751921899}"
      ]
     },
     "execution_count": 39,
     "metadata": {},
     "output_type": "execute_result"
    }
   ],
   "source": [
    "x['param']['test_at_10'][0]"
   ]
  },
  {
   "cell_type": "code",
   "execution_count": 40,
   "metadata": {},
   "outputs": [
    {
     "data": {
      "text/plain": [
       "{'precision': 0.017733280333897664,\n",
       " 'recall': 0.0628374662626632,\n",
       " 'map': 0.0056636217614090476,\n",
       " 'ndcg': 0.0445331073622668}"
      ]
     },
     "execution_count": 40,
     "metadata": {},
     "output_type": "execute_result"
    }
   ],
   "source": [
    "x['param']['test_at_20'][0]"
   ]
  },
  {
   "cell_type": "code",
   "execution_count": 41,
   "metadata": {},
   "outputs": [
    {
     "data": {
      "text/plain": [
       "{'precision': 0.015401305111133643,\n",
       " 'recall': 0.08027466659136677,\n",
       " 'map': 0.004132798761746964,\n",
       " 'ndcg': 0.049932046347672746}"
      ]
     },
     "execution_count": 41,
     "metadata": {},
     "output_type": "execute_result"
    }
   ],
   "source": [
    "x['param']['test_at_30'][0]"
   ]
  },
  {
   "cell_type": "code",
   "execution_count": 43,
   "metadata": {},
   "outputs": [
    {
     "data": {
      "text/plain": [
       "{'precision': 0.012609559773428274,\n",
       " 'recall': 0.10730409127556088,\n",
       " 'map': 0.002742095000172939,\n",
       " 'ndcg': 0.05777414980126395}"
      ]
     },
     "execution_count": 43,
     "metadata": {},
     "output_type": "execute_result"
    }
   ],
   "source": [
    "x['param']['test_at_50'][0]"
   ]
  },
  {
   "cell_type": "code",
   "execution_count": 48,
   "metadata": {},
   "outputs": [
    {
     "name": "stdout",
     "output_type": "stream",
     "text": [
      "0.026761403160090822\n",
      "0.024202891595266184\n",
      "0.015465235681870804\n",
      "0.033605463137618447\n",
      "0.022220013912353072\n",
      "0.04036368437579266\n",
      "0.009512939512815292\n",
      "0.03744915751921899\n",
      "0.017733280333897664\n",
      "0.0628374662626632\n",
      "0.0056636217614090476\n",
      "0.0445331073622668\n",
      "0.015401305111133643\n",
      "0.08027466659136677\n",
      "0.004132798761746964\n",
      "0.049932046347672746\n",
      "0.012609559773428274\n",
      "0.10730409127556088\n",
      "0.002742095000172939\n",
      "0.05777414980126395\n"
     ]
    }
   ],
   "source": [
    "for kk in [5, 10, 20, 30, 50]:\n",
    "    for k, v in x['param']['test_at_%d' % kk][0].items():\n",
    "        print(v)"
   ]
  },
  {
   "cell_type": "code",
   "execution_count": null,
   "metadata": {},
   "outputs": [],
   "source": []
  }
 ],
 "metadata": {
  "kernelspec": {
   "display_name": "Python 3",
   "language": "python",
   "name": "python3"
  },
  "language_info": {
   "codemirror_mode": {
    "name": "ipython",
    "version": 3
   },
   "file_extension": ".py",
   "mimetype": "text/x-python",
   "name": "python",
   "nbconvert_exporter": "python",
   "pygments_lexer": "ipython3",
   "version": "3.7.6"
  }
 },
 "nbformat": 4,
 "nbformat_minor": 4
}
