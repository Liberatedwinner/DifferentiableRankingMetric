{
 "cells": [
  {
   "cell_type": "code",
   "execution_count": 1,
   "metadata": {},
   "outputs": [],
   "source": [
    "import pandas as pd\n",
    "import numpy as np\n",
    "import os\n",
    "os.environ['MKL_NUM_THREADS'] = '1'\n",
    "from collections import Counter\n",
    "import itertools\n",
    "import json\n",
    "import scipy.sparse as sparse\n",
    "import pickle\n",
    "import torch\n",
    "import misc.util as util\n",
    "from torch import nn\n",
    "\n",
    "import importlib\n",
    "from torch.utils.data import DataLoader\n",
    "from misc.loader import AEDataset\n",
    "from misc.util import *\n",
    "from tqdm.auto import tqdm\n",
    "from eval.rec_eval import *\n",
    "import neuralsort.pl as pl\n",
    "from models.loss import neuPrecLoss\n",
    "from misc.loader import RecDataset\n",
    "import models\n",
    "from models.loss import *"
   ]
  },
  {
   "cell_type": "code",
   "execution_count": 2,
   "metadata": {},
   "outputs": [],
   "source": [
    "with open(os.path.join(\"data\", \"parsed\", \"ml-20m\"), 'rb') as f:\n",
    "    a,b,c, tr_tr, tr_val, te = pickle.load(f)"
   ]
  },
  {
   "cell_type": "code",
   "execution_count": 3,
   "metadata": {},
   "outputs": [],
   "source": [
    "import pickle\n",
    "best_model = torch.load(\"saved_models/ml-20m/dae_prec5\")"
   ]
  },
  {
   "cell_type": "code",
   "execution_count": 4,
   "metadata": {},
   "outputs": [
    {
     "data": {
      "text/plain": [
       "{'model': CDAE(\n",
       "   (out_activation): Identity()\n",
       "   (V_u): Embedding(136674, 512)\n",
       "   (H_in): Linear(in_features=13681, out_features=512, bias=True)\n",
       "   (H_out): Linear(in_features=512, out_features=13681, bias=True)\n",
       "   (drop): Dropout(p=0.8, inplace=False)\n",
       " ),\n",
       " 'epoch': 15,\n",
       " 'bs': 256,\n",
       " 'lr': 0.0005,\n",
       " 'dim': 512,\n",
       " 'lamb': 0.01,\n",
       " 'dropout': 0.8,\n",
       " 'metric_5': {'precision': 0.06229999999999983,\n",
       "  'recall': 0.06141761486958444,\n",
       "  'map': 0.12361833333333398,\n",
       "  'ndcg': 0.0759649217662484},\n",
       " 'metric_50': {'precision': 0.026364000000000887,\n",
       "  'recall': 0.20101820138163762,\n",
       "  'map': 0.11070810614615256,\n",
       "  'ndcg': 0.12249443617562299}}"
      ]
     },
     "execution_count": 4,
     "metadata": {},
     "output_type": "execute_result"
    }
   ],
   "source": [
    "best_model"
   ]
  },
  {
   "cell_type": "code",
   "execution_count": 5,
   "metadata": {
    "scrolled": true
   },
   "outputs": [],
   "source": [
    "ae_dataset = AEDataset(tr_tr)"
   ]
  },
  {
   "cell_type": "code",
   "execution_count": 6,
   "metadata": {
    "scrolled": true
   },
   "outputs": [],
   "source": [
    "model = best_model['model'].eval()"
   ]
  },
  {
   "cell_type": "code",
   "execution_count": 7,
   "metadata": {},
   "outputs": [],
   "source": [
    "wrapper = models.ae.implicitWrapper(model.eval(), tr_tr, naive_sparse2tensor, vae=False)"
   ]
  },
  {
   "cell_type": "code",
   "execution_count": 8,
   "metadata": {},
   "outputs": [
    {
     "name": "stdout",
     "output_type": "stream",
     "text": [
      "{'precision': 0.061119999999999584, 'recall': 0.05912560350441865, 'map': 0.12103180555555634, 'ndcg': 0.07396703926062353}\n",
      "{'precision': 0.04919000000000105, 'recall': 0.08909050447601738, 'map': 0.1237501081821617, 'ndcg': 0.08254372926942283}\n"
     ]
    }
   ],
   "source": [
    "print(ranking_metrics_at_k(wrapper, tr_tr, te, K=5, num_threads=4))\n",
    "print(ranking_metrics_at_k(wrapper, tr_tr, te, K=10, num_threads=4))\n",
    "\n",
    "bm_state = best_model['model'].state_dict()\n",
    "del best_model['model']\n",
    "del model\n",
    "del wrapper"
   ]
  },
  {
   "cell_type": "code",
   "execution_count": 9,
   "metadata": {},
   "outputs": [],
   "source": [
    "from models.lrloss import approxNDCGLoss, rankNet, lambdaLoss"
   ]
  },
  {
   "cell_type": "code",
   "execution_count": 10,
   "metadata": {},
   "outputs": [],
   "source": [
    "n_users, n_items = tr_tr.shape"
   ]
  },
  {
   "cell_type": "code",
   "execution_count": 11,
   "metadata": {},
   "outputs": [
    {
     "data": {
      "text/plain": [
       "CDAE(\n",
       "  (out_activation): Identity()\n",
       "  (V_u): Embedding(136674, 512)\n",
       "  (H_in): Linear(in_features=13681, out_features=512, bias=True)\n",
       "  (H_out): Linear(in_features=512, out_features=13681, bias=True)\n",
       "  (drop): Dropout(p=0.8, inplace=False)\n",
       ")"
      ]
     },
     "execution_count": 11,
     "metadata": {},
     "output_type": "execute_result"
    }
   ],
   "source": [
    "models.ae.CDAE(\n",
    "    n_users=tr_tr.shape[0], \n",
    "    n_items=tr_tr.shape[1], \n",
    "    n_hidden=best_model['dim'], \n",
    "    dropout=best_model['dropout'])\n"
   ]
  },
  {
   "cell_type": "code",
   "execution_count": 12,
   "metadata": {},
   "outputs": [
    {
     "data": {
      "application/vnd.jupyter.widget-view+json": {
       "model_id": "51095a012a6a42489c9867ee9509e5b0",
       "version_major": 2,
       "version_minor": 0
      },
      "text/plain": [
       "HBox(children=(FloatProgress(value=0.0, max=1068.0), HTML(value='')))"
      ]
     },
     "metadata": {},
     "output_type": "display_data"
    },
    {
     "name": "stdout",
     "output_type": "stream",
     "text": [
      "\n",
      "{'precision': 0.06119999999999959, 'recall': 0.05895558172570692, 'map': 0.12136569444444528, 'ndcg': 0.07397170860203582}\n",
      "{'precision': 0.049230000000001044, 'recall': 0.08918713555073533, 'map': 0.12395267734315946, 'ndcg': 0.0825906562233758}\n"
     ]
    },
    {
     "data": {
      "application/vnd.jupyter.widget-view+json": {
       "model_id": "43f935a7f484424a94ddb2f34f896cbb",
       "version_major": 2,
       "version_minor": 0
      },
      "text/plain": [
       "HBox(children=(FloatProgress(value=0.0, max=1068.0), HTML(value='')))"
      ]
     },
     "metadata": {},
     "output_type": "display_data"
    },
    {
     "name": "stdout",
     "output_type": "stream",
     "text": [
      "\n",
      "{'precision': 0.061279999999999564, 'recall': 0.05899457516643508, 'map': 0.1219204166666675, 'ndcg': 0.07418762778214852}\n",
      "{'precision': 0.04932000000000102, 'recall': 0.08930279287960656, 'map': 0.12443748488284191, 'ndcg': 0.08278865053611699}\n"
     ]
    },
    {
     "data": {
      "application/vnd.jupyter.widget-view+json": {
       "model_id": "316277e597d6459ebabb68fc0255d514",
       "version_major": 2,
       "version_minor": 0
      },
      "text/plain": [
       "HBox(children=(FloatProgress(value=0.0, max=1068.0), HTML(value='')))"
      ]
     },
     "metadata": {},
     "output_type": "display_data"
    },
    {
     "name": "stdout",
     "output_type": "stream",
     "text": [
      "\n",
      "{'precision': 0.06131999999999956, 'recall': 0.05910062375182673, 'map': 0.12211833333333416, 'ndcg': 0.07437914616828817}\n",
      "{'precision': 0.04928000000000101, 'recall': 0.08925146193663436, 'map': 0.12477083371126205, 'ndcg': 0.08290299791059658}\n"
     ]
    },
    {
     "data": {
      "application/vnd.jupyter.widget-view+json": {
       "model_id": "4f4ffb89fccd4f5dbd2205db39fefa50",
       "version_major": 2,
       "version_minor": 0
      },
      "text/plain": [
       "HBox(children=(FloatProgress(value=0.0, max=1068.0), HTML(value='')))"
      ]
     },
     "metadata": {},
     "output_type": "display_data"
    },
    {
     "name": "stdout",
     "output_type": "stream",
     "text": [
      "\n",
      "{'precision': 0.061539999999999574, 'recall': 0.05936846846801317, 'map': 0.12281347222222296, 'ndcg': 0.07470890933579091}\n",
      "{'precision': 0.04926000000000098, 'recall': 0.0891806272191957, 'map': 0.1254176643990927, 'ndcg': 0.08303553791724745}\n"
     ]
    },
    {
     "data": {
      "application/vnd.jupyter.widget-view+json": {
       "model_id": "b9bb096d21f54daa85ce71cb193c21d1",
       "version_major": 2,
       "version_minor": 0
      },
      "text/plain": [
       "HBox(children=(FloatProgress(value=0.0, max=1068.0), HTML(value='')))"
      ]
     },
     "metadata": {},
     "output_type": "display_data"
    },
    {
     "name": "stdout",
     "output_type": "stream",
     "text": [
      "\n",
      "{'precision': 0.061619999999999585, 'recall': 0.05940470750675221, 'map': 0.12375125000000065, 'ndcg': 0.07495674845985403}\n",
      "{'precision': 0.04934000000000099, 'recall': 0.08932744535354674, 'map': 0.12592447623771685, 'ndcg': 0.08328645728850252}\n"
     ]
    },
    {
     "data": {
      "application/vnd.jupyter.widget-view+json": {
       "model_id": "af2d4c02805f414a8c4c6d0ed7476077",
       "version_major": 2,
       "version_minor": 0
      },
      "text/plain": [
       "HBox(children=(FloatProgress(value=0.0, max=1068.0), HTML(value='')))"
      ]
     },
     "metadata": {},
     "output_type": "display_data"
    },
    {
     "name": "stdout",
     "output_type": "stream",
     "text": [
      "\n",
      "{'precision': 0.0618199999999996, 'recall': 0.05946012212228833, 'map': 0.12416986111111185, 'ndcg': 0.07515516166420033}\n",
      "{'precision': 0.049430000000001015, 'recall': 0.08957197363285324, 'map': 0.12622264687263762, 'ndcg': 0.08345982130972997}\n"
     ]
    }
   ],
   "source": [
    "import models.mf\n",
    "import neuralsort.neuralobjs\n",
    "importlib.reload(models.ae)\n",
    "loader = DataLoader(ae_dataset, batch_size=128, shuffle=True, num_workers=6)\n",
    "model = models.ae.CDAE(\n",
    "    n_users=tr_tr.shape[0], \n",
    "    n_items=tr_tr.shape[1], \n",
    "    n_hidden=best_model['dim'], \n",
    "    dropout=best_model['dropout'])\n",
    "\n",
    "model.load_state_dict(bm_state)\n",
    "model.cuda()\n",
    "optimizer = torch.optim.RMSprop(model.parameters(), lr=3 * 1e-8, weight_decay=0)\n",
    "sc = neuralsort.neuralobjs.SC()\n",
    "lm = -1 \n",
    "for epoch in (range(1, 10 + 1)):\n",
    "    tot_loss = 0\n",
    "    tot_loss = 0\n",
    "    model = model.train()\n",
    "    for uid, rowl in tqdm(loader):\n",
    "        row = rowl.float().cuda()\n",
    "        uid = uid.cuda() \n",
    "        scores = model.forward(uid, row)\n",
    "        loss  = neuPrecLoss(sc, scores, row, topk=500, k=5, tau=15.0, use_top=True).mean()\n",
    "        loss.backward()\n",
    "        tot_loss += loss.detach().cpu().numpy()\n",
    "        optimizer.step()\n",
    "    model = model.eval()\n",
    "    if (epoch % 1 == 0):\n",
    "        wrapper = models.ae.implicitWrapper(model, tr_tr, naive_sparse2tensor, vae=False)\n",
    "        mm = (ranking_metrics_at_k(wrapper, tr_tr, tr_val, K=5, num_threads=4))\n",
    "        print(ranking_metrics_at_k(wrapper, tr_tr, te, K=5, num_threads=4))\n",
    "        print(ranking_metrics_at_k(wrapper, tr_tr, te, K=10, num_threads=4))\n",
    "        if mm['precision'] < lm:\n",
    "            break\n",
    "        lm =  mm['precision']\n",
    "        "
   ]
  },
  {
   "cell_type": "code",
   "execution_count": null,
   "metadata": {},
   "outputs": [],
   "source": []
  },
  {
   "cell_type": "code",
   "execution_count": 13,
   "metadata": {},
   "outputs": [
    {
     "ename": "TypeError",
     "evalue": "unsupported operand type(s) for +: 'int' and 'list'",
     "output_type": "error",
     "traceback": [
      "\u001b[0;31m---------------------------------------------------------------------------\u001b[0m",
      "\u001b[0;31mTypeError\u001b[0m                                 Traceback (most recent call last)",
      "\u001b[0;32m<ipython-input-13-36ad962b98e7>\u001b[0m in \u001b[0;36m<module>\u001b[0;34m\u001b[0m\n\u001b[1;32m      3\u001b[0m \u001b[0mimportlib\u001b[0m\u001b[0;34m.\u001b[0m\u001b[0mreload\u001b[0m\u001b[0;34m(\u001b[0m\u001b[0mmodels\u001b[0m\u001b[0;34m.\u001b[0m\u001b[0mae\u001b[0m\u001b[0;34m)\u001b[0m\u001b[0;34m\u001b[0m\u001b[0;34m\u001b[0m\u001b[0m\n\u001b[1;32m      4\u001b[0m \u001b[0mloader\u001b[0m \u001b[0;34m=\u001b[0m \u001b[0mDataLoader\u001b[0m\u001b[0;34m(\u001b[0m\u001b[0mae_dataset\u001b[0m\u001b[0;34m,\u001b[0m \u001b[0mbatch_size\u001b[0m\u001b[0;34m=\u001b[0m\u001b[0;36m128\u001b[0m\u001b[0;34m,\u001b[0m \u001b[0mshuffle\u001b[0m\u001b[0;34m=\u001b[0m\u001b[0;32mTrue\u001b[0m\u001b[0;34m,\u001b[0m \u001b[0mnum_workers\u001b[0m\u001b[0;34m=\u001b[0m\u001b[0;36m6\u001b[0m\u001b[0;34m)\u001b[0m\u001b[0;34m\u001b[0m\u001b[0;34m\u001b[0m\u001b[0m\n\u001b[0;32m----> 5\u001b[0;31m \u001b[0mmodel\u001b[0m \u001b[0;34m=\u001b[0m \u001b[0mmodels\u001b[0m\u001b[0;34m.\u001b[0m\u001b[0mae\u001b[0m\u001b[0;34m.\u001b[0m\u001b[0mMultiVAE\u001b[0m\u001b[0;34m(\u001b[0m\u001b[0mbest_model\u001b[0m\u001b[0;34m[\u001b[0m\u001b[0;34m'dim'\u001b[0m\u001b[0;34m]\u001b[0m \u001b[0;34m+\u001b[0m \u001b[0;34m[\u001b[0m\u001b[0mn_items\u001b[0m\u001b[0;34m]\u001b[0m\u001b[0;34m,\u001b[0m \u001b[0mdropout\u001b[0m\u001b[0;34m=\u001b[0m\u001b[0mbest_model\u001b[0m\u001b[0;34m[\u001b[0m\u001b[0;34m'dropout'\u001b[0m\u001b[0;34m]\u001b[0m\u001b[0;34m)\u001b[0m\u001b[0;34m\u001b[0m\u001b[0;34m\u001b[0m\u001b[0m\n\u001b[0m\u001b[1;32m      6\u001b[0m \u001b[0mmodel\u001b[0m\u001b[0;34m.\u001b[0m\u001b[0mload_state_dict\u001b[0m\u001b[0;34m(\u001b[0m\u001b[0mbm_state\u001b[0m\u001b[0;34m)\u001b[0m\u001b[0;34m\u001b[0m\u001b[0;34m\u001b[0m\u001b[0m\n\u001b[1;32m      7\u001b[0m \u001b[0mmodel\u001b[0m\u001b[0;34m.\u001b[0m\u001b[0mcuda\u001b[0m\u001b[0;34m(\u001b[0m\u001b[0;34m)\u001b[0m\u001b[0;34m\u001b[0m\u001b[0;34m\u001b[0m\u001b[0m\n",
      "\u001b[0;31mTypeError\u001b[0m: unsupported operand type(s) for +: 'int' and 'list'"
     ]
    }
   ],
   "source": [
    "import models.mf\n",
    "import neuralsort.neuralobjs\n",
    "importlib.reload(models.ae)\n",
    "loader = DataLoader(ae_dataset, batch_size=128, shuffle=True, num_workers=6)\n",
    "model = models.ae.MultiVAE(best_model['dim'] + [n_items], dropout=best_model['dropout'])\n",
    "model.load_state_dict(bm_state)\n",
    "model.cuda()\n",
    "optimizer = torch.optim.RMSprop(model.parameters(), lr=1 * 1e-6, weight_decay=0)\n",
    "sc = neuralsort.neuralobjs.SC()\n",
    "lm = -1 \n",
    "for epoch in (range(1, 10 + 1)):\n",
    "    tot_loss = 0\n",
    "    tot_loss = 0\n",
    "    model = model.train()\n",
    "    for uid, rowl in tqdm(loader):\n",
    "        row = rowl.float().cuda()\n",
    "        uid = uid.cuda() \n",
    "        scores, _, _ = model.forward(row)\n",
    "        y_hat, indices = torch.topk(scores, 300)\n",
    "        y_true = row.gather(1, indices)\n",
    "        loss  = approxNDCGLoss(y_hat, y_true)\n",
    "        loss.backward()\n",
    "        tot_loss += loss.detach().cpu().numpy()\n",
    "        optimizer.step()\n",
    "    model = model.eval()\n",
    "    if (epoch % 1 == 0):\n",
    "        wrapper = models.ae.implicitWrapper(model, tr_tr, naive_sparse2tensor, vae=True)\n",
    "        mm = (ranking_metrics_at_k(wrapper, tr_tr, tr_val, K=5, num_threads=4))\n",
    "        print(ranking_metrics_at_k(wrapper, tr_tr, te, K=5, num_threads=4))\n",
    "        print(ranking_metrics_at_k(wrapper, tr_tr, te, K=10, num_threads=4))\n",
    "        if mm['precision'] < lm:\n",
    "            break\n",
    "        lm =  mm['precision']\n",
    "        "
   ]
  },
  {
   "cell_type": "code",
   "execution_count": null,
   "metadata": {
    "scrolled": true
   },
   "outputs": [],
   "source": [
    "import models.mf\n",
    "import neuralsort.neuralobjs\n",
    "importlib.reload(models.ae)\n",
    "loader = DataLoader(ae_dataset, batch_size=128, shuffle=True, num_workers=6)\n",
    "model = models.ae.MultiVAE(best_model['dim'] + [n_items], dropout=best_model['dropout'])\n",
    "model.load_state_dict(bm_state)\n",
    "model.cuda()\n",
    "optimizer = torch.optim.RMSprop(model.parameters(), lr=1 * 1e-6, weight_decay=0)\n",
    "sc = neuralsort.neuralobjs.SC()\n",
    "lm = -1 \n",
    "for epoch in (range(1, 10 + 1)):\n",
    "    tot_loss = 0\n",
    "    tot_loss = 0\n",
    "    model = model.train()\n",
    "    for uid, rowl in tqdm(loader):\n",
    "        row = rowl.float().cuda()\n",
    "        uid = uid.cuda() \n",
    "        scores, _, _ = model.forward(row)\n",
    "        y_hat, indices = torch.topk(scores, 300)\n",
    "        y_true = row.gather(1, indices)\n",
    "        loss  = rankNet(y_hat, y_true)\n",
    "        loss.backward()\n",
    "        tot_loss += loss.detach().cpu().numpy()\n",
    "        optimizer.step()\n",
    "    model = model.eval()\n",
    "    if (epoch % 1 == 0):\n",
    "        wrapper = models.ae.implicitWrapper(model, tr_tr, naive_sparse2tensor, vae=True)\n",
    "        mm = (ranking_metrics_at_k(wrapper, tr_tr, tr_val, K=5, num_threads=4))\n",
    "        print(ranking_metrics_at_k(wrapper, tr_tr, te, K=5, num_threads=4))\n",
    "        print(ranking_metrics_at_k(wrapper, tr_tr, te, K=10, num_threads=4))\n",
    "        if mm['precision'] < lm:\n",
    "            break\n",
    "        lm =  mm['precision']\n",
    "        "
   ]
  },
  {
   "cell_type": "code",
   "execution_count": null,
   "metadata": {},
   "outputs": [],
   "source": [
    "import models.mf\n",
    "import neuralsort.neuralobjs\n",
    "importlib.reload(models.ae)\n",
    "loader = DataLoader(ae_dataset, batch_size=128, shuffle=True, num_workers=6)\n",
    "model = models.ae.MultiVAE(best_model['dim'] + [n_items], dropout=best_model['dropout'])\n",
    "model.load_state_dict(bm_state)\n",
    "model.cuda()\n",
    "optimizer = torch.optim.RMSprop(model.parameters(), lr=1 * 1e-6, weight_decay=0)\n",
    "sc = neuralsort.neuralobjs.SC()\n",
    "lm = -1 \n",
    "for epoch in (range(1, 10 + 1)):\n",
    "    tot_loss = 0\n",
    "    tot_loss = 0\n",
    "    model = model.train()\n",
    "    for uid, rowl in tqdm(loader):\n",
    "        row = rowl.float().cuda()\n",
    "        uid = uid.cuda() \n",
    "        scores, _, _ = model.forward(row)\n",
    "        y_hat, indices = torch.topk(scores, 300)\n",
    "        y_true = row.gather(1, indices)\n",
    "        loss  = lambdaLoss(y_hat, y_true)\n",
    "        loss.backward()\n",
    "        tot_loss += loss.detach().cpu().numpy()\n",
    "        optimizer.step()\n",
    "    model = model.eval()\n",
    "    if (epoch % 1 == 0):\n",
    "        wrapper = models.ae.implicitWrapper(model, tr_tr, naive_sparse2tensor, vae=True)\n",
    "        mm = (ranking_metrics_at_k(wrapper, tr_tr, tr_val, K=5, num_threads=4))\n",
    "        print(ranking_metrics_at_k(wrapper, tr_tr, te, K=5, num_threads=4))\n",
    "        print(ranking_metrics_at_k(wrapper, tr_tr, te, K=10, num_threads=4))\n",
    "        if mm['precision'] < lm:\n",
    "            break\n",
    "        lm =  mm['precision']\n",
    "        "
   ]
  },
  {
   "cell_type": "code",
   "execution_count": null,
   "metadata": {},
   "outputs": [],
   "source": []
  }
 ],
 "metadata": {
  "kernelspec": {
   "display_name": "Python 3",
   "language": "python",
   "name": "python3"
  },
  "language_info": {
   "codemirror_mode": {
    "name": "ipython",
    "version": 3
   },
   "file_extension": ".py",
   "mimetype": "text/x-python",
   "name": "python",
   "nbconvert_exporter": "python",
   "pygments_lexer": "ipython3",
   "version": "3.7.6"
  }
 },
 "nbformat": 4,
 "nbformat_minor": 2
}
