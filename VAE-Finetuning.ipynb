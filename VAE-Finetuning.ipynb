{
 "cells": [
  {
   "cell_type": "code",
   "execution_count": 1,
   "metadata": {},
   "outputs": [],
   "source": [
    "import pandas as pd\n",
    "import numpy as np\n",
    "import os\n",
    "os.environ['MKL_NUM_THREADS'] = '1'\n",
    "from collections import Counter\n",
    "import itertools\n",
    "import json\n",
    "import scipy.sparse as sparse\n",
    "import pickle\n",
    "import torch\n",
    "import misc.util as util\n",
    "from torch import nn\n",
    "\n",
    "import importlib\n",
    "from torch.utils.data import DataLoader\n",
    "from misc.loader import AEDataset\n",
    "from misc.util import *\n",
    "from tqdm.auto import tqdm\n",
    "from eval.rec_eval import *\n",
    "import neuralsort.pl as pl\n",
    "from models.loss import neuPrecLoss\n",
    "from misc.loader import RecDataset\n",
    "import models\n",
    "from models.loss import *"
   ]
  },
  {
   "cell_type": "code",
   "execution_count": 3,
   "metadata": {},
   "outputs": [
    {
     "ename": "ValueError",
     "evalue": "too many values to unpack (expected 6)",
     "output_type": "error",
     "traceback": [
      "\u001b[0;31m---------------------------------------------------------------------------\u001b[0m",
      "\u001b[0;31mValueError\u001b[0m                                Traceback (most recent call last)",
      "\u001b[0;32m<ipython-input-3-d1d5166eaf2f>\u001b[0m in \u001b[0;36m<module>\u001b[0;34m\u001b[0m\n\u001b[1;32m      1\u001b[0m \u001b[0;32mwith\u001b[0m \u001b[0mopen\u001b[0m\u001b[0;34m(\u001b[0m\u001b[0mos\u001b[0m\u001b[0;34m.\u001b[0m\u001b[0mpath\u001b[0m\u001b[0;34m.\u001b[0m\u001b[0mjoin\u001b[0m\u001b[0;34m(\u001b[0m\u001b[0;34m\"data\"\u001b[0m\u001b[0;34m,\u001b[0m \u001b[0;34m\"parsed\"\u001b[0m\u001b[0;34m,\u001b[0m \u001b[0;34m\"ml-1m-new\"\u001b[0m\u001b[0;34m)\u001b[0m\u001b[0;34m,\u001b[0m \u001b[0;34m'rb'\u001b[0m\u001b[0;34m)\u001b[0m \u001b[0;32mas\u001b[0m \u001b[0mf\u001b[0m\u001b[0;34m:\u001b[0m\u001b[0;34m\u001b[0m\u001b[0;34m\u001b[0m\u001b[0m\n\u001b[0;32m----> 2\u001b[0;31m     \u001b[0ma\u001b[0m\u001b[0;34m,\u001b[0m\u001b[0mb\u001b[0m\u001b[0;34m,\u001b[0m\u001b[0mc\u001b[0m\u001b[0;34m,\u001b[0m \u001b[0mtr_tr\u001b[0m\u001b[0;34m,\u001b[0m \u001b[0mtr_val\u001b[0m\u001b[0;34m,\u001b[0m \u001b[0mte\u001b[0m \u001b[0;34m=\u001b[0m \u001b[0mpickle\u001b[0m\u001b[0;34m.\u001b[0m\u001b[0mload\u001b[0m\u001b[0;34m(\u001b[0m\u001b[0mf\u001b[0m\u001b[0;34m)\u001b[0m\u001b[0;34m\u001b[0m\u001b[0;34m\u001b[0m\u001b[0m\n\u001b[0m",
      "\u001b[0;31mValueError\u001b[0m: too many values to unpack (expected 6)"
     ]
    }
   ],
   "source": [
    "with open(os.path.join(\"data\", \"parsed\", \"ml-1m-new\"), 'rb') as f:\n",
    "    a,b,c, tr_tr, tr_val, te = pickle.load(f)"
   ]
  },
  {
   "cell_type": "code",
   "execution_count": null,
   "metadata": {},
   "outputs": [],
   "source": [
    "import pickle\n",
    "best_model = torch.load(\"saved_models/ml-20m/vae_prec5\")"
   ]
  },
  {
   "cell_type": "code",
   "execution_count": null,
   "metadata": {},
   "outputs": [],
   "source": [
    "best_model"
   ]
  },
  {
   "cell_type": "code",
   "execution_count": 30,
   "metadata": {
    "scrolled": true
   },
   "outputs": [
    {
     "data": {
      "text/plain": [
       "{'model': MultiVAE(\n",
       "   (q_layers): ModuleList(\n",
       "     (0): Linear(in_features=13681, out_features=256, bias=True)\n",
       "     (1): Linear(in_features=256, out_features=1024, bias=True)\n",
       "   )\n",
       "   (p_layers): ModuleList(\n",
       "     (0): Linear(in_features=512, out_features=256, bias=True)\n",
       "     (1): Linear(in_features=256, out_features=13681, bias=True)\n",
       "   )\n",
       "   (drop): Dropout(p=0.8, inplace=False)\n",
       " ),\n",
       " 'epoch': 5,\n",
       " 'bs': 512,\n",
       " 'lr': 0.001,\n",
       " 'dim': [512, 256],\n",
       " 'lamb': 0.0001,\n",
       " 'metric_5': {'precision': 0.08936000000000194,\n",
       "  'recall': 0.05921655429419089,\n",
       "  'map': 0.1920347222222216,\n",
       "  'ndcg': 0.1088772340564977},\n",
       " 'metric_50': {'precision': 0.027200000000000835,\n",
       "  'recall': 0.1565233167054972,\n",
       "  'map': 0.160146862163632,\n",
       "  'ndcg': 0.1181003027475717},\n",
       " 'dropout': 0.8}"
      ]
     },
     "execution_count": 30,
     "metadata": {},
     "output_type": "execute_result"
    }
   ],
   "source": [
    "ae_dataset = AEDataset(tr_tr)\n",
    "best_model"
   ]
  },
  {
   "cell_type": "code",
   "execution_count": 25,
   "metadata": {},
   "outputs": [
    {
     "name": "stderr",
     "output_type": "stream",
     "text": [
      "/home/ita/anaconda3/lib/python3.7/site-packages/torch/nn/functional.py:1339: UserWarning: nn.functional.tanh is deprecated. Use torch.tanh instead.\n",
      "  warnings.warn(\"nn.functional.tanh is deprecated. Use torch.tanh instead.\")\n"
     ]
    },
    {
     "name": "stdout",
     "output_type": "stream",
     "text": [
      "{'precision': 0.0869800000000019, 'recall': 0.058693894298560416, 'map': 0.1896362499999995, 'ndcg': 0.10652404038939785}\n",
      "{'precision': 0.05758000000000196, 'recall': 0.07443248352015566, 'map': 0.188871258314436, 'ndcg': 0.09663626218533948}\n"
     ]
    }
   ],
   "source": [
    "print(ranking_metrics_at_k(wrapper, tr_tr, te, K=5, num_threads=4))\n",
    "print(ranking_metrics_at_k(wrapper, tr_tr, te, K=10, num_threads=4))\n"
   ]
  },
  {
   "cell_type": "code",
   "execution_count": 32,
   "metadata": {},
   "outputs": [],
   "source": [
    "from models.lrloss import approxNDCGLoss, rankNet, lambdaLoss"
   ]
  },
  {
   "cell_type": "code",
   "execution_count": 34,
   "metadata": {},
   "outputs": [],
   "source": [
    "n_users, n_items = tr_tr.shape"
   ]
  },
  {
   "cell_type": "code",
   "execution_count": 38,
   "metadata": {},
   "outputs": [
    {
     "name": "stdout",
     "output_type": "stream",
     "text": [
      "\n"
     ]
    },
    {
     "data": {
      "application/vnd.jupyter.widget-view+json": {
       "model_id": "dec347e121bc449d9c8534545dd81edb",
       "version_major": 2,
       "version_minor": 0
      },
      "text/plain": [
       "HBox(children=(FloatProgress(value=0.0, max=1068.0), HTML(value='')))"
      ]
     },
     "metadata": {},
     "output_type": "display_data"
    },
    {
     "name": "stdout",
     "output_type": "stream",
     "text": [
      "\n",
      "{'precision': 0.09252000000000182, 'recall': 0.06893234585367138, 'map': 0.1911479166666667, 'ndcg': 0.1124682288678667}\n",
      "{'precision': 0.05954000000000168, 'recall': 0.09050383389671461, 'map': 0.18771905083144333, 'ndcg': 0.10345798756526467}\n"
     ]
    },
    {
     "data": {
      "application/vnd.jupyter.widget-view+json": {
       "model_id": "694b7fbe4236480a82103b66bde2fe76",
       "version_major": 2,
       "version_minor": 0
      },
      "text/plain": [
       "HBox(children=(FloatProgress(value=0.0, max=1068.0), HTML(value='')))"
      ]
     },
     "metadata": {},
     "output_type": "display_data"
    },
    {
     "name": "stdout",
     "output_type": "stream",
     "text": [
      "\n",
      "{'precision': 0.07938000000000113, 'recall': 0.061483804651446636, 'map': 0.17216472222222182, 'ndcg': 0.0984565852346703}\n",
      "{'precision': 0.05406000000000138, 'recall': 0.08363424381970325, 'map': 0.16756606547619002, 'ndcg': 0.09430571414912392}\n"
     ]
    }
   ],
   "source": [
    "import models.mf\n",
    "import neuralsort.neuralobjs\n",
    "importlib.reload(models.ae)\n",
    "loader = DataLoader(ae_dataset, batch_size=128, shuffle=True, num_workers=6)\n",
    "model = models.ae.MultiVAE(best_model['dim'] + [n_items], dropout=best_model['dropout'])\n",
    "model.load_state_dict(bm_state)\n",
    "model.cuda()\n",
    "optimizer = torch.optim.RMSprop(model.parameters(), lr=1 * 1e-6, weight_decay=0)\n",
    "sc = neuralsort.neuralobjs.SC()\n",
    "lm = -1 \n",
    "for epoch in (range(1, 10 + 1)):\n",
    "    tot_loss = 0\n",
    "    tot_loss = 0\n",
    "    model = model.train()\n",
    "    for uid, rowl in tqdm(loader):\n",
    "        row = rowl.float().cuda()\n",
    "        uid = uid.cuda() \n",
    "        scores, _, _ = model.forward(row)\n",
    "        loss  = neuPrecLoss(sc, scores, row, topk=300, k=3, tau=20.0, use_top=True).mean()\n",
    "        loss.backward()\n",
    "        tot_loss += loss.detach().cpu().numpy()\n",
    "        optimizer.step()\n",
    "    model = model.eval()\n",
    "    if (epoch % 1 == 0):\n",
    "        wrapper = models.ae.implicitWrapper(model, tr_tr, naive_sparse2tensor, vae=True)\n",
    "        mm = (ranking_metrics_at_k(wrapper, tr_tr, tr_val, K=5, num_threads=4))\n",
    "        print(ranking_metrics_at_k(wrapper, tr_tr, te, K=5, num_threads=4))\n",
    "        print(ranking_metrics_at_k(wrapper, tr_tr, te, K=10, num_threads=4))\n",
    "        if mm['precision'] < lm:\n",
    "            break\n",
    "        lm =  mm['precision']\n",
    "        "
   ]
  },
  {
   "cell_type": "code",
   "execution_count": null,
   "metadata": {},
   "outputs": [],
   "source": []
  },
  {
   "cell_type": "code",
   "execution_count": 35,
   "metadata": {},
   "outputs": [
    {
     "data": {
      "application/vnd.jupyter.widget-view+json": {
       "model_id": "19be813d54d04cbfa5bc942415176ed8",
       "version_major": 2,
       "version_minor": 0
      },
      "text/plain": [
       "HBox(children=(FloatProgress(value=0.0, max=1068.0), HTML(value='')))"
      ]
     },
     "metadata": {},
     "output_type": "display_data"
    },
    {
     "name": "stdout",
     "output_type": "stream",
     "text": [
      "\n",
      "{'precision': 0.08726000000000181, 'recall': 0.058231955211608614, 'map': 0.1922705555555552, 'ndcg': 0.1079217174581876}\n",
      "{'precision': 0.06052000000000179, 'recall': 0.08518413458590629, 'map': 0.1874104445389255, 'ndcg': 0.10186313399251082}\n"
     ]
    },
    {
     "data": {
      "application/vnd.jupyter.widget-view+json": {
       "model_id": "64fde2a05dff44d9bf5e27c132516340",
       "version_major": 2,
       "version_minor": 0
      },
      "text/plain": [
       "HBox(children=(FloatProgress(value=0.0, max=1068.0), HTML(value='')))"
      ]
     },
     "metadata": {},
     "output_type": "display_data"
    },
    {
     "name": "stdout",
     "output_type": "stream",
     "text": [
      "\n",
      "{'precision': 0.08378000000000142, 'recall': 0.05604487086196955, 'map': 0.18237944444444443, 'ndcg': 0.10359700904072658}\n",
      "{'precision': 0.058620000000001504, 'recall': 0.08333295779065585, 'map': 0.17737412443310613, 'ndcg': 0.09843591113248824}\n"
     ]
    }
   ],
   "source": [
    "import models.mf\n",
    "import neuralsort.neuralobjs\n",
    "importlib.reload(models.ae)\n",
    "loader = DataLoader(ae_dataset, batch_size=128, shuffle=True, num_workers=6)\n",
    "model = models.ae.MultiVAE(best_model['dim'] + [n_items], dropout=best_model['dropout'])\n",
    "model.load_state_dict(bm_state)\n",
    "model.cuda()\n",
    "optimizer = torch.optim.RMSprop(model.parameters(), lr=1 * 1e-6, weight_decay=0)\n",
    "sc = neuralsort.neuralobjs.SC()\n",
    "lm = -1 \n",
    "for epoch in (range(1, 10 + 1)):\n",
    "    tot_loss = 0\n",
    "    tot_loss = 0\n",
    "    model = model.train()\n",
    "    for uid, rowl in tqdm(loader):\n",
    "        row = rowl.float().cuda()\n",
    "        uid = uid.cuda() \n",
    "        scores, _, _ = model.forward(row)\n",
    "        y_hat, indices = torch.topk(scores, 300)\n",
    "        y_true = row.gather(1, indices)\n",
    "        loss  = approxNDCGLoss(y_hat, y_true)\n",
    "        loss.backward()\n",
    "        tot_loss += loss.detach().cpu().numpy()\n",
    "        optimizer.step()\n",
    "    model = model.eval()\n",
    "    if (epoch % 1 == 0):\n",
    "        wrapper = models.ae.implicitWrapper(model, tr_tr, naive_sparse2tensor, vae=True)\n",
    "        mm = (ranking_metrics_at_k(wrapper, tr_tr, tr_val, K=5, num_threads=4))\n",
    "        print(ranking_metrics_at_k(wrapper, tr_tr, te, K=5, num_threads=4))\n",
    "        print(ranking_metrics_at_k(wrapper, tr_tr, te, K=10, num_threads=4))\n",
    "        if mm['precision'] < lm:\n",
    "            break\n",
    "        lm =  mm['precision']\n",
    "        "
   ]
  },
  {
   "cell_type": "code",
   "execution_count": 36,
   "metadata": {
    "scrolled": true
   },
   "outputs": [
    {
     "data": {
      "application/vnd.jupyter.widget-view+json": {
       "model_id": "346da79f8b0a49dba8aa6958a9765bec",
       "version_major": 2,
       "version_minor": 0
      },
      "text/plain": [
       "HBox(children=(FloatProgress(value=0.0, max=1068.0), HTML(value='')))"
      ]
     },
     "metadata": {},
     "output_type": "display_data"
    },
    {
     "name": "stdout",
     "output_type": "stream",
     "text": [
      "\n",
      "{'precision': 0.059979999999999555, 'recall': 0.04756488722479732, 'map': 0.1309993055555562, 'ndcg': 0.07296570766596301}\n",
      "{'precision': 0.052570000000001144, 'recall': 0.07949942021948003, 'map': 0.1318094501606197, 'ndcg': 0.08096075060319999}\n"
     ]
    },
    {
     "data": {
      "application/vnd.jupyter.widget-view+json": {
       "model_id": "b6b5ff10ced640a799f8d9bd163e62a3",
       "version_major": 2,
       "version_minor": 0
      },
      "text/plain": [
       "HBox(children=(FloatProgress(value=0.0, max=1068.0), HTML(value='')))"
      ]
     },
     "metadata": {},
     "output_type": "display_data"
    },
    {
     "name": "stdout",
     "output_type": "stream",
     "text": [
      "\n",
      "{'precision': 0.04511999999999891, 'recall': 0.038313029695334504, 'map': 0.09720777777777867, 'ndcg': 0.055102276956149956}\n",
      "{'precision': 0.04111000000000043, 'recall': 0.06634588440555968, 'map': 0.09559109646636457, 'ndcg': 0.06372786489989042}\n"
     ]
    }
   ],
   "source": [
    "import models.mf\n",
    "import neuralsort.neuralobjs\n",
    "importlib.reload(models.ae)\n",
    "loader = DataLoader(ae_dataset, batch_size=128, shuffle=True, num_workers=6)\n",
    "model = models.ae.MultiVAE(best_model['dim'] + [n_items], dropout=best_model['dropout'])\n",
    "model.load_state_dict(bm_state)\n",
    "model.cuda()\n",
    "optimizer = torch.optim.RMSprop(model.parameters(), lr=1 * 1e-6, weight_decay=0)\n",
    "sc = neuralsort.neuralobjs.SC()\n",
    "lm = -1 \n",
    "for epoch in (range(1, 10 + 1)):\n",
    "    tot_loss = 0\n",
    "    tot_loss = 0\n",
    "    model = model.train()\n",
    "    for uid, rowl in tqdm(loader):\n",
    "        row = rowl.float().cuda()\n",
    "        uid = uid.cuda() \n",
    "        scores, _, _ = model.forward(row)\n",
    "        y_hat, indices = torch.topk(scores, 300)\n",
    "        y_true = row.gather(1, indices)\n",
    "        loss  = rankNet(y_hat, y_true)\n",
    "        loss.backward()\n",
    "        tot_loss += loss.detach().cpu().numpy()\n",
    "        optimizer.step()\n",
    "    model = model.eval()\n",
    "    if (epoch % 1 == 0):\n",
    "        wrapper = models.ae.implicitWrapper(model, tr_tr, naive_sparse2tensor, vae=True)\n",
    "        mm = (ranking_metrics_at_k(wrapper, tr_tr, tr_val, K=5, num_threads=4))\n",
    "        print(ranking_metrics_at_k(wrapper, tr_tr, te, K=5, num_threads=4))\n",
    "        print(ranking_metrics_at_k(wrapper, tr_tr, te, K=10, num_threads=4))\n",
    "        if mm['precision'] < lm:\n",
    "            break\n",
    "        lm =  mm['precision']\n",
    "        "
   ]
  },
  {
   "cell_type": "code",
   "execution_count": 37,
   "metadata": {},
   "outputs": [
    {
     "data": {
      "application/vnd.jupyter.widget-view+json": {
       "model_id": "46a4e251d9144d01915ef881cdfa153d",
       "version_major": 2,
       "version_minor": 0
      },
      "text/plain": [
       "HBox(children=(FloatProgress(value=0.0, max=1068.0), HTML(value='')))"
      ]
     },
     "metadata": {},
     "output_type": "display_data"
    },
    {
     "name": "stdout",
     "output_type": "stream",
     "text": [
      "\n",
      "{'precision': 0.0599999999999996, 'recall': 0.04766169124615044, 'map': 0.13136166666666713, 'ndcg': 0.07319896417089926}\n",
      "{'precision': 0.05296000000000114, 'recall': 0.07939386103225726, 'map': 0.13342043164210082, 'ndcg': 0.08132935090919093}\n"
     ]
    },
    {
     "data": {
      "application/vnd.jupyter.widget-view+json": {
       "model_id": "7faee017d12046fb9300153402f710cd",
       "version_major": 2,
       "version_minor": 0
      },
      "text/plain": [
       "HBox(children=(FloatProgress(value=0.0, max=1068.0), HTML(value='')))"
      ]
     },
     "metadata": {},
     "output_type": "display_data"
    },
    {
     "ename": "KeyboardInterrupt",
     "evalue": "",
     "output_type": "error",
     "traceback": [
      "\u001b[0;31m---------------------------------------------------------------------------\u001b[0m",
      "\u001b[0;31mKeyboardInterrupt\u001b[0m                         Traceback (most recent call last)",
      "\u001b[0;32m<ipython-input-37-e37eb92cced9>\u001b[0m in \u001b[0;36m<module>\u001b[0;34m\u001b[0m\n\u001b[1;32m     20\u001b[0m         \u001b[0my_true\u001b[0m \u001b[0;34m=\u001b[0m \u001b[0mrow\u001b[0m\u001b[0;34m.\u001b[0m\u001b[0mgather\u001b[0m\u001b[0;34m(\u001b[0m\u001b[0;36m1\u001b[0m\u001b[0;34m,\u001b[0m \u001b[0mindices\u001b[0m\u001b[0;34m)\u001b[0m\u001b[0;34m\u001b[0m\u001b[0;34m\u001b[0m\u001b[0m\n\u001b[1;32m     21\u001b[0m         \u001b[0mloss\u001b[0m  \u001b[0;34m=\u001b[0m \u001b[0mlambdaLoss\u001b[0m\u001b[0;34m(\u001b[0m\u001b[0my_hat\u001b[0m\u001b[0;34m,\u001b[0m \u001b[0my_true\u001b[0m\u001b[0;34m)\u001b[0m\u001b[0;34m\u001b[0m\u001b[0;34m\u001b[0m\u001b[0m\n\u001b[0;32m---> 22\u001b[0;31m         \u001b[0mloss\u001b[0m\u001b[0;34m.\u001b[0m\u001b[0mbackward\u001b[0m\u001b[0;34m(\u001b[0m\u001b[0;34m)\u001b[0m\u001b[0;34m\u001b[0m\u001b[0;34m\u001b[0m\u001b[0m\n\u001b[0m\u001b[1;32m     23\u001b[0m         \u001b[0mtot_loss\u001b[0m \u001b[0;34m+=\u001b[0m \u001b[0mloss\u001b[0m\u001b[0;34m.\u001b[0m\u001b[0mdetach\u001b[0m\u001b[0;34m(\u001b[0m\u001b[0;34m)\u001b[0m\u001b[0;34m.\u001b[0m\u001b[0mcpu\u001b[0m\u001b[0;34m(\u001b[0m\u001b[0;34m)\u001b[0m\u001b[0;34m.\u001b[0m\u001b[0mnumpy\u001b[0m\u001b[0;34m(\u001b[0m\u001b[0;34m)\u001b[0m\u001b[0;34m\u001b[0m\u001b[0;34m\u001b[0m\u001b[0m\n\u001b[1;32m     24\u001b[0m         \u001b[0moptimizer\u001b[0m\u001b[0;34m.\u001b[0m\u001b[0mstep\u001b[0m\u001b[0;34m(\u001b[0m\u001b[0;34m)\u001b[0m\u001b[0;34m\u001b[0m\u001b[0;34m\u001b[0m\u001b[0m\n",
      "\u001b[0;32m~/anaconda3/lib/python3.7/site-packages/torch/tensor.py\u001b[0m in \u001b[0;36mbackward\u001b[0;34m(self, gradient, retain_graph, create_graph)\u001b[0m\n\u001b[1;32m    116\u001b[0m                 \u001b[0mproducts\u001b[0m\u001b[0;34m.\u001b[0m \u001b[0mDefaults\u001b[0m \u001b[0mto\u001b[0m\u001b[0;31m \u001b[0m\u001b[0;31m`\u001b[0m\u001b[0;31m`\u001b[0m\u001b[0;32mFalse\u001b[0m\u001b[0;31m`\u001b[0m\u001b[0;31m`\u001b[0m\u001b[0;34m.\u001b[0m\u001b[0;34m\u001b[0m\u001b[0;34m\u001b[0m\u001b[0m\n\u001b[1;32m    117\u001b[0m         \"\"\"\n\u001b[0;32m--> 118\u001b[0;31m         \u001b[0mtorch\u001b[0m\u001b[0;34m.\u001b[0m\u001b[0mautograd\u001b[0m\u001b[0;34m.\u001b[0m\u001b[0mbackward\u001b[0m\u001b[0;34m(\u001b[0m\u001b[0mself\u001b[0m\u001b[0;34m,\u001b[0m \u001b[0mgradient\u001b[0m\u001b[0;34m,\u001b[0m \u001b[0mretain_graph\u001b[0m\u001b[0;34m,\u001b[0m \u001b[0mcreate_graph\u001b[0m\u001b[0;34m)\u001b[0m\u001b[0;34m\u001b[0m\u001b[0;34m\u001b[0m\u001b[0m\n\u001b[0m\u001b[1;32m    119\u001b[0m \u001b[0;34m\u001b[0m\u001b[0m\n\u001b[1;32m    120\u001b[0m     \u001b[0;32mdef\u001b[0m \u001b[0mregister_hook\u001b[0m\u001b[0;34m(\u001b[0m\u001b[0mself\u001b[0m\u001b[0;34m,\u001b[0m \u001b[0mhook\u001b[0m\u001b[0;34m)\u001b[0m\u001b[0;34m:\u001b[0m\u001b[0;34m\u001b[0m\u001b[0;34m\u001b[0m\u001b[0m\n",
      "\u001b[0;32m~/anaconda3/lib/python3.7/site-packages/torch/autograd/__init__.py\u001b[0m in \u001b[0;36mbackward\u001b[0;34m(tensors, grad_tensors, retain_graph, create_graph, grad_variables)\u001b[0m\n\u001b[1;32m     91\u001b[0m     Variable._execution_engine.run_backward(\n\u001b[1;32m     92\u001b[0m         \u001b[0mtensors\u001b[0m\u001b[0;34m,\u001b[0m \u001b[0mgrad_tensors\u001b[0m\u001b[0;34m,\u001b[0m \u001b[0mretain_graph\u001b[0m\u001b[0;34m,\u001b[0m \u001b[0mcreate_graph\u001b[0m\u001b[0;34m,\u001b[0m\u001b[0;34m\u001b[0m\u001b[0;34m\u001b[0m\u001b[0m\n\u001b[0;32m---> 93\u001b[0;31m         allow_unreachable=True)  # allow_unreachable flag\n\u001b[0m\u001b[1;32m     94\u001b[0m \u001b[0;34m\u001b[0m\u001b[0m\n\u001b[1;32m     95\u001b[0m \u001b[0;34m\u001b[0m\u001b[0m\n",
      "\u001b[0;31mKeyboardInterrupt\u001b[0m: "
     ]
    }
   ],
   "source": [
    "import models.mf\n",
    "import neuralsort.neuralobjs\n",
    "importlib.reload(models.ae)\n",
    "loader = DataLoader(ae_dataset, batch_size=128, shuffle=True, num_workers=6)\n",
    "model = models.ae.MultiVAE(best_model['dim'] + [n_items], dropout=best_model['dropout'])\n",
    "model.load_state_dict(bm_state)\n",
    "model.cuda()\n",
    "optimizer = torch.optim.RMSprop(model.parameters(), lr=1 * 1e-6, weight_decay=0)\n",
    "sc = neuralsort.neuralobjs.SC()\n",
    "lm = -1 \n",
    "for epoch in (range(1, 10 + 1)):\n",
    "    tot_loss = 0\n",
    "    tot_loss = 0\n",
    "    model = model.train()\n",
    "    for uid, rowl in tqdm(loader):\n",
    "        row = rowl.float().cuda()\n",
    "        uid = uid.cuda() \n",
    "        scores, _, _ = model.forward(row)\n",
    "        y_hat, indices = torch.topk(scores, 300)\n",
    "        y_true = row.gather(1, indices)\n",
    "        loss  = lambdaLoss(y_hat, y_true)\n",
    "        loss.backward()\n",
    "        tot_loss += loss.detach().cpu().numpy()\n",
    "        optimizer.step()\n",
    "    model = model.eval()\n",
    "    if (epoch % 1 == 0):\n",
    "        wrapper = models.ae.implicitWrapper(model, tr_tr, naive_sparse2tensor, vae=True)\n",
    "        mm = (ranking_metrics_at_k(wrapper, tr_tr, tr_val, K=5, num_threads=4))\n",
    "        print(ranking_metrics_at_k(wrapper, tr_tr, te, K=5, num_threads=4))\n",
    "        print(ranking_metrics_at_k(wrapper, tr_tr, te, K=10, num_threads=4))\n",
    "        if mm['precision'] < lm:\n",
    "            break\n",
    "        lm =  mm['precision']\n",
    "        "
   ]
  },
  {
   "cell_type": "code",
   "execution_count": null,
   "metadata": {},
   "outputs": [],
   "source": []
  }
 ],
 "metadata": {
  "kernelspec": {
   "display_name": "Python 3",
   "language": "python",
   "name": "python3"
  },
  "language_info": {
   "codemirror_mode": {
    "name": "ipython",
    "version": 3
   },
   "file_extension": ".py",
   "mimetype": "text/x-python",
   "name": "python",
   "nbconvert_exporter": "python",
   "pygments_lexer": "ipython3",
   "version": "3.7.6"
  }
 },
 "nbformat": 4,
 "nbformat_minor": 2
}
