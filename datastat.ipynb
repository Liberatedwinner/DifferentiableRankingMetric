{
 "cells": [
  {
   "cell_type": "code",
   "execution_count": 2,
   "metadata": {},
   "outputs": [],
   "source": [
    "import torch\n",
    "import os\n",
    "import pandas as pd\n",
    "import pickle\n",
    "import numpy as np"
   ]
  },
  {
   "cell_type": "code",
   "execution_count": 3,
   "metadata": {},
   "outputs": [
    {
     "name": "stdout",
     "output_type": "stream",
     "text": [
      "ciao-712      epinion-l-1-100  ml-1m-l-1-100   pinterest-712-     sk-new\r\n",
      "ciao-712-     epinion-new      ml-1m-new       pinterest-l-1-100\r\n",
      "ciao-new      melon-712        ml-20m-712      pinterest-new\r\n",
      "epinion-712   melon-l-1-100    ml-20m-l-1-100  sk-712\r\n",
      "epinion-712-  ml-1m-712        pinterest-712   sk-712-\r\n"
     ]
    }
   ],
   "source": [
    "ls data/parsed"
   ]
  },
  {
   "cell_type": "code",
   "execution_count": 4,
   "metadata": {},
   "outputs": [],
   "source": [
    "with open(\"data/parsed/ml-20m-712\", 'rb') as f:\n",
    "    tr, val, te = pickle.load(f)"
   ]
  },
  {
   "cell_type": "code",
   "execution_count": 5,
   "metadata": {},
   "outputs": [],
   "source": [
    "n_users, n_items = tr.shape"
   ]
  },
  {
   "cell_type": "code",
   "execution_count": 6,
   "metadata": {},
   "outputs": [],
   "source": [
    "t = (tr+val+te).tocsr()"
   ]
  },
  {
   "cell_type": "code",
   "execution_count": 7,
   "metadata": {},
   "outputs": [
    {
     "data": {
      "text/plain": [
       "(136675, 15525, 9983776)"
      ]
     },
     "execution_count": 7,
     "metadata": {},
     "output_type": "execute_result"
    }
   ],
   "source": [
    "n_users, n_items, t.nnz"
   ]
  },
  {
   "cell_type": "code",
   "execution_count": 8,
   "metadata": {},
   "outputs": [
    {
     "data": {
      "text/plain": [
       "0.004705157191133921"
      ]
     },
     "execution_count": 8,
     "metadata": {},
     "output_type": "execute_result"
    }
   ],
   "source": [
    "t.nnz / (n_users*n_items)"
   ]
  },
  {
   "cell_type": "code",
   "execution_count": 9,
   "metadata": {},
   "outputs": [],
   "source": [
    "t.data[:] = 1"
   ]
  },
  {
   "cell_type": "code",
   "execution_count": 10,
   "metadata": {},
   "outputs": [],
   "source": [
    "avg_consumed_items_per_user = t.sum(1).A1.ravel().mean()"
   ]
  },
  {
   "cell_type": "code",
   "execution_count": 11,
   "metadata": {},
   "outputs": [],
   "source": [
    "avg_consumed_users_per_item = t.sum(0).A1.ravel().mean()"
   ]
  },
  {
   "cell_type": "code",
   "execution_count": 12,
   "metadata": {},
   "outputs": [
    {
     "data": {
      "text/plain": [
       "(73.04756539235413, 643.0773590982286)"
      ]
     },
     "execution_count": 12,
     "metadata": {},
     "output_type": "execute_result"
    }
   ],
   "source": [
    "avg_consumed_items_per_user, avg_consumed_users_per_item"
   ]
  },
  {
   "cell_type": "code",
   "execution_count": 13,
   "metadata": {},
   "outputs": [],
   "source": [
    "std_items_per_user = t.sum(1).A1.ravel().std()\n",
    "std_users_per_item = t.sum(0).A1.ravel().std()"
   ]
  },
  {
   "cell_type": "code",
   "execution_count": 14,
   "metadata": {},
   "outputs": [
    {
     "data": {
      "text/plain": [
       "(102.3205169341753, 2454.16378383357)"
      ]
     },
     "execution_count": 14,
     "metadata": {},
     "output_type": "execute_result"
    }
   ],
   "source": [
    "std_items_per_user, std_users_per_item"
   ]
  },
  {
   "cell_type": "code",
   "execution_count": 15,
   "metadata": {},
   "outputs": [],
   "source": [
    "item_clickcnts = -np.sort(-t.sum(0).A1.ravel())"
   ]
  },
  {
   "cell_type": "code",
   "execution_count": 16,
   "metadata": {},
   "outputs": [
    {
     "name": "stdout",
     "output_type": "stream",
     "text": [
      "65.77\n"
     ]
    }
   ],
   "source": [
    "tot_cnt = item_clickcnts.sum()\n",
    "i = 0\n",
    "tc = 0 \n",
    "for i in range(n_items // 20):\n",
    "    tc += item_clickcnts[i]\n",
    "print(\"%0.2f\" % (100 *(tc / tot_cnt)))"
   ]
  },
  {
   "cell_type": "code",
   "execution_count": 17,
   "metadata": {},
   "outputs": [
    {
     "name": "stdout",
     "output_type": "stream",
     "text": [
      " cdae    'k=1-dot-1'  'k=3-3'      'k=5-dot-5'   torch-warp\r\n",
      " CML     'k=2-2'      'k=3-dot-3'   ours-256-3   vae\r\n",
      "'k=1-1'  'k=2-dot-2'  'k=5-5'       ours-2-dot   warp\r\n"
     ]
    }
   ],
   "source": [
    "ls best_res/sk-712"
   ]
  },
  {
   "cell_type": "code",
   "execution_count": 19,
   "metadata": {},
   "outputs": [],
   "source": [
    "# x = torch.load(\"saved_models/sk-712/k=3-3\", map_location='cuda:0')"
   ]
  },
  {
   "cell_type": "code",
   "execution_count": 351,
   "metadata": {},
   "outputs": [],
   "source": [
    "x = torch.load(\"best_res/sk-712/k=1-1\")"
   ]
  },
  {
   "cell_type": "code",
   "execution_count": 355,
   "metadata": {},
   "outputs": [
    {
     "data": {
      "text/plain": [
       "dict_keys(['model', 'param'])"
      ]
     },
     "execution_count": 355,
     "metadata": {},
     "output_type": "execute_result"
    }
   ],
   "source": [
    "x.keys()"
   ]
  },
  {
   "cell_type": "code",
   "execution_count": 356,
   "metadata": {},
   "outputs": [
    {
     "data": {
      "text/plain": [
       "{'precision': 0.08645664654792116,\n",
       " 'recall': 0.11059288045846234,\n",
       " 'map': 0.05806737327641283,\n",
       " 'ndcg': 0.12764118745257053}"
      ]
     },
     "execution_count": 356,
     "metadata": {},
     "output_type": "execute_result"
    }
   ],
   "source": [
    "x['param']['test_at_5'][0]"
   ]
  },
  {
   "cell_type": "code",
   "execution_count": 89,
   "metadata": {},
   "outputs": [
    {
     "data": {
      "text/plain": [
       "{'precision': 0.23989772115550442,\n",
       " 'recall': 0.23490268288062535,\n",
       " 'map': 0.12866754551422305,\n",
       " 'ndcg': 0.2761454085913488}"
      ]
     },
     "execution_count": 89,
     "metadata": {},
     "output_type": "execute_result"
    }
   ],
   "source": [
    "x['test_at_10'][0]"
   ]
  },
  {
   "cell_type": "code",
   "execution_count": 90,
   "metadata": {},
   "outputs": [
    {
     "data": {
      "text/plain": [
       "{'precision': 0.18205110951605583,\n",
       " 'recall': 0.3347923257009072,\n",
       " 'map': 0.07365179328976347,\n",
       " 'ndcg': 0.2573312567829422}"
      ]
     },
     "execution_count": 90,
     "metadata": {},
     "output_type": "execute_result"
    }
   ],
   "source": [
    "x['test_at_20'][0]"
   ]
  },
  {
   "cell_type": "code",
   "execution_count": 91,
   "metadata": {},
   "outputs": [
    {
     "data": {
      "text/plain": [
       "{'precision': 0.15089593675859236,\n",
       " 'recall': 0.4008718996359259,\n",
       " 'map': 0.05070783533983877,\n",
       " 'ndcg': 0.25274035441075704}"
      ]
     },
     "execution_count": 91,
     "metadata": {},
     "output_type": "execute_result"
    }
   ],
   "source": [
    "x['test_at_30'][0]"
   ]
  },
  {
   "cell_type": "code",
   "execution_count": 92,
   "metadata": {},
   "outputs": [
    {
     "data": {
      "text/plain": [
       "{'precision': 0.1158946408278979,\n",
       " 'recall': 0.48743766062942645,\n",
       " 'map': 0.03021926351309031,\n",
       " 'ndcg': 0.2510542442585091}"
      ]
     },
     "execution_count": 92,
     "metadata": {},
     "output_type": "execute_result"
    }
   ],
   "source": [
    "x['test_at_50'][0]"
   ]
  },
  {
   "cell_type": "code",
   "execution_count": 367,
   "metadata": {},
   "outputs": [
    {
     "name": "stdout",
     "output_type": "stream",
     "text": [
      "0.08636832032975532\n",
      "0.11055136998741383\n",
      "0.0581363167967035\n",
      "0.1278394777486839\n",
      "0.06624466362432338\n",
      "0.15763690615216677\n",
      "0.03612592269352951\n",
      "0.1395093863729476\n",
      "0.048752392168408515\n",
      "0.2131961870338199\n",
      "0.021531453576039607\n",
      "0.15493182185973559\n",
      "0.04033809313509338\n",
      "0.250757842176916\n",
      "0.015760604530442063\n",
      "0.16526361341552692\n",
      "0.03106874723980548\n",
      "0.3047671269966551\n",
      "0.0104692617347614\n",
      "0.17931094512483467\n"
     ]
    }
   ],
   "source": [
    "for kk in [5, 10, 20, 30, 50]:\n",
    "    for k,v in x['param']['test_at_%d' % kk][4].items():\n",
    "        print(v)"
   ]
  },
  {
   "cell_type": "code",
   "execution_count": null,
   "metadata": {},
   "outputs": [],
   "source": []
  }
 ],
 "metadata": {
  "kernelspec": {
   "display_name": "Python 3",
   "language": "python",
   "name": "python3"
  },
  "language_info": {
   "codemirror_mode": {
    "name": "ipython",
    "version": 3
   },
   "file_extension": ".py",
   "mimetype": "text/x-python",
   "name": "python",
   "nbconvert_exporter": "python",
   "pygments_lexer": "ipython3",
   "version": "3.7.6"
  }
 },
 "nbformat": 4,
 "nbformat_minor": 4
}
