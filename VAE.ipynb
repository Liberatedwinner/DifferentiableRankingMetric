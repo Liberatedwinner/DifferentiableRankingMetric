{
 "cells": [
  {
   "cell_type": "code",
   "execution_count": 1,
   "metadata": {},
   "outputs": [],
   "source": [
    "import pandas as pd\n",
    "import numpy as np\n",
    "import os\n",
    "os.environ['MKL_NUM_THREADS'] = '1'\n",
    "from collections import Counter\n",
    "import itertools\n",
    "import json\n",
    "import scipy.sparse as sparse\n",
    "import pickle\n",
    "import torch\n",
    "from models.ae import implicitWrapper\n",
    "import misc.util as util\n",
    "from torch import nn\n",
    "\n",
    "import importlib\n",
    "from torch.utils.data import DataLoader\n",
    "from misc.loader import AEDataset\n",
    "from misc.util import *\n",
    "from tqdm.auto import tqdm\n",
    "from eval.rec_eval import *\n",
    "import neuralsort.pl as pl\n",
    "from models.loss import *\n",
    "from misc.loader import RecDataset\n",
    "import models\n",
    "from neuralsort import neuralobjs\n",
    "from torch.utils.tensorboard import SummaryWriter\n"
   ]
  },
  {
   "cell_type": "code",
   "execution_count": 2,
   "metadata": {},
   "outputs": [],
   "source": [
    "dataset_name = \"ml-20m\"\n",
    "with open(os.path.join(\"data\", \"parsed\", dataset_name), 'rb') as f:\n",
    "    a,b,c, tr_tr, tr_val, te = pickle.load(f)"
   ]
  },
  {
   "cell_type": "code",
   "execution_count": 3,
   "metadata": {},
   "outputs": [],
   "source": [
    "n_users, n_items = tr_tr.shape"
   ]
  },
  {
   "cell_type": "code",
   "execution_count": 4,
   "metadata": {},
   "outputs": [],
   "source": [
    "batch_sizes = [256, 512]\n",
    "dims = [[512], [256], [128], [512, 256]]\n",
    "dropouts = [0.5]\n",
    "lambs = [0, 1e-5, 1e-4]\n",
    "lrs = [1e-4, 5 * 1e-4, 1e-3, 3 * 1e-3]\n",
    "n_epochs = 200"
   ]
  },
  {
   "cell_type": "code",
   "execution_count": 5,
   "metadata": {},
   "outputs": [
    {
     "name": "stdout",
     "output_type": "stream",
     "text": [
      "128\n"
     ]
    }
   ],
   "source": [
    "import itertools \n",
    "l = list(itertools.product(batch_sizes, dims, dropouts, lambs, lrs))\n",
    "print(len(l))\n",
    "#for x in l:\n",
    "##    bs, dim, dropout, lamb, lr = x\n",
    "#   print(x)"
   ]
  },
  {
   "cell_type": "code",
   "execution_count": 7,
   "metadata": {},
   "outputs": [],
   "source": [
    "ae_dataset = AEDataset(tr_tr)\n",
    "sc = neuralobjs.SC()"
   ]
  },
  {
   "cell_type": "code",
   "execution_count": null,
   "metadata": {
    "scrolled": true
   },
   "outputs": [
    {
     "name": "stdout",
     "output_type": "stream",
     "text": [
      "logs/ml-20m/VAE/256-[512]-0.5-0.0001-0.00000\n",
      "logs/ml-20m/VAE/256-[512]-0.5-0.0005-0.00000\n",
      "logs/ml-20m/VAE/256-[512]-0.5-0.0010-0.00000\n",
      "logs/ml-20m/VAE/256-[512]-0.5-0.0030-0.00000\n",
      "logs/ml-20m/VAE/256-[512]-0.5-0.0001-0.00100\n",
      "logs/ml-20m/VAE/256-[512]-0.5-0.0005-0.00100\n",
      "logs/ml-20m/VAE/256-[512]-0.5-0.0010-0.00100\n",
      "logs/ml-20m/VAE/256-[512]-0.5-0.0030-0.00100\n",
      "logs/ml-20m/VAE/256-[512]-0.5-0.0001-0.00300\n",
      "logs/ml-20m/VAE/256-[512]-0.5-0.0005-0.00300\n",
      "logs/ml-20m/VAE/256-[512]-0.5-0.0010-0.00300\n",
      "logs/ml-20m/VAE/256-[512]-0.5-0.0030-0.00300\n",
      "logs/ml-20m/VAE/256-[512]-0.5-0.0001-0.00500\n",
      "logs/ml-20m/VAE/256-[512]-0.5-0.0005-0.00500\n",
      "logs/ml-20m/VAE/256-[512]-0.5-0.0010-0.00500\n",
      "logs/ml-20m/VAE/256-[512]-0.5-0.0030-0.00500\n",
      "logs/ml-20m/VAE/256-[256]-0.5-0.0001-0.00000\n",
      "logs/ml-20m/VAE/256-[256]-0.5-0.0005-0.00000\n",
      "logs/ml-20m/VAE/256-[256]-0.5-0.0010-0.00000\n",
      "logs/ml-20m/VAE/256-[256]-0.5-0.0030-0.00000\n",
      "logs/ml-20m/VAE/256-[256]-0.5-0.0001-0.00100\n",
      "logs/ml-20m/VAE/256-[256]-0.5-0.0005-0.00100\n",
      "logs/ml-20m/VAE/256-[256]-0.5-0.0010-0.00100\n",
      "logs/ml-20m/VAE/256-[256]-0.5-0.0030-0.00100\n",
      "logs/ml-20m/VAE/256-[256]-0.5-0.0001-0.00300\n",
      "logs/ml-20m/VAE/256-[256]-0.5-0.0005-0.00300\n",
      "logs/ml-20m/VAE/256-[256]-0.5-0.0010-0.00300\n",
      "logs/ml-20m/VAE/256-[256]-0.5-0.0030-0.00300\n",
      "logs/ml-20m/VAE/256-[256]-0.5-0.0001-0.00500\n",
      "logs/ml-20m/VAE/256-[256]-0.5-0.0005-0.00500\n",
      "logs/ml-20m/VAE/256-[256]-0.5-0.0010-0.00500\n",
      "logs/ml-20m/VAE/256-[256]-0.5-0.0030-0.00500\n",
      "logs/ml-20m/VAE/256-[128]-0.5-0.0001-0.00000\n",
      "logs/ml-20m/VAE/256-[128]-0.5-0.0005-0.00000\n",
      "logs/ml-20m/VAE/256-[128]-0.5-0.0010-0.00000\n",
      "logs/ml-20m/VAE/256-[128]-0.5-0.0030-0.00000\n",
      "logs/ml-20m/VAE/256-[128]-0.5-0.0001-0.00100\n",
      "logs/ml-20m/VAE/256-[128]-0.5-0.0005-0.00100\n",
      "logs/ml-20m/VAE/256-[128]-0.5-0.0010-0.00100\n",
      "logs/ml-20m/VAE/256-[128]-0.5-0.0030-0.00100\n",
      "logs/ml-20m/VAE/256-[128]-0.5-0.0001-0.00300\n",
      "logs/ml-20m/VAE/256-[128]-0.5-0.0005-0.00300\n",
      "logs/ml-20m/VAE/256-[128]-0.5-0.0010-0.00300\n",
      "logs/ml-20m/VAE/256-[128]-0.5-0.0030-0.00300\n",
      "logs/ml-20m/VAE/256-[128]-0.5-0.0001-0.00500\n",
      "logs/ml-20m/VAE/256-[128]-0.5-0.0005-0.00500\n",
      "logs/ml-20m/VAE/256-[128]-0.5-0.0010-0.00500\n",
      "logs/ml-20m/VAE/256-[128]-0.5-0.0030-0.00500\n",
      "logs/ml-20m/VAE/256-[512_256]-0.5-0.0001-0.00000\n"
     ]
    },
    {
     "name": "stderr",
     "output_type": "stream",
     "text": [
      "/home/ita/anaconda3/lib/python3.7/site-packages/torch/nn/functional.py:1339: UserWarning: nn.functional.tanh is deprecated. Use torch.tanh instead.\n",
      "  warnings.warn(\"nn.functional.tanh is deprecated. Use torch.tanh instead.\")\n"
     ]
    }
   ],
   "source": [
    "for bs, dim, dropout, lamb, lr in itertools.product(batch_sizes, dims, dropouts, lambs, lrs):\n",
    "    log_dir = os.path.join(\"logs/%s/\" % dataset_name, \"VAE\", \"%d-%s-%0.1f-%0.4f-%0.5f\" %\n",
    "                           (bs, '['+'_'.join([str(x) for x in dim])+']', dropout, lr, lamb)\n",
    "                          )\n",
    "    print(log_dir)\n",
    "    writer = SummaryWriter(log_dir)\n",
    "    loader = DataLoader(ae_dataset, batch_size=bs, shuffle=True, num_workers=6)\n",
    "    vae = models.ae.MultiVAE(dim + [n_items], dropout=dropout).cuda()\n",
    "    optimizer = torch.optim.RMSprop(vae.parameters(), lr=lr, weight_decay=lamb)    \n",
    "    noupdate = 0 \n",
    "    last_mp = -1\n",
    "    for epoch in range(1, n_epochs + 1):\n",
    "        tot_loss = 0\n",
    "        vae.train()\n",
    "        for uid, rowl in (loader):\n",
    "            row = rowl.float().cuda()\n",
    "            uid = uid.cuda() \n",
    "            scores, mu, logvar = vae.forward(row)\n",
    "            loss  = models.ae.loss_function(scores, row, mu, logvar, anneal=1.0)\n",
    "            loss.backward()\n",
    "            optimizer.step()\n",
    "        if (epoch % 5 == 0):\n",
    "            vae.eval()\n",
    "            wrapper = implicitWrapper(vae, tr_tr, tensor_wrapper=naive_sparse2tensor, vae=True)\n",
    "            metric = ranking_metrics_at_k(wrapper, tr_tr, tr_val, K=30, num_threads=6)\n",
    "            writer.add_scalar(\"val/precision\", metric['precision'], epoch)\n",
    "            writer.add_scalar(\"val/recall\", metric['recall'], epoch)\n",
    "            writer.add_scalar(\"val/ndcg\", metric['ndcg'], epoch)\n",
    "            writer.add_scalar(\"val/map\", metric['map'], epoch)\n",
    "            if metric['ndcg'] >= last_mp:\n",
    "                noupdate = 0 \n",
    "                last_mp = metric['ndcg']\n",
    "                torch.save(\n",
    "                    {\"model\": vae, \n",
    "                    \"epoch\": epoch,\n",
    "                    \"bs\": bs,\n",
    "                    \"lr\": lr,\n",
    "                    \"dim\": dim, \n",
    "                    \"lamb\": lamb,\n",
    "                    \"dropout\": dropout}, os.path.join(\"saved_models\", \"vae_%s\" % dataset_name))\n",
    "            else:\n",
    "                noupdate += 1\n",
    "        if noupdate >= 4:\n",
    "            break\n",
    "    writer.close()\n",
    "    del vae"
   ]
  },
  {
   "cell_type": "code",
   "execution_count": 4,
   "metadata": {},
   "outputs": [
    {
     "name": "stdout",
     "output_type": "stream",
     "text": [
      "0.10477768227429503\n",
      "0.10477768227429503\n",
      "0.10477768227429503\n",
      "0.10477768227429503\n",
      "0.10477768227429503\n",
      "0.10477768227429503\n"
     ]
    },
    {
     "ename": "KeyboardInterrupt",
     "evalue": "",
     "output_type": "error",
     "traceback": [
      "\u001b[0;31m---------------------------------------------------------------------------\u001b[0m",
      "\u001b[0;31mKeyboardInterrupt\u001b[0m                         Traceback (most recent call last)",
      "\u001b[0;32m<ipython-input-4-477dcdae44bc>\u001b[0m in \u001b[0;36m<module>\u001b[0;34m\u001b[0m\n\u001b[1;32m     33\u001b[0m     \u001b[0;32mif\u001b[0m \u001b[0;34m(\u001b[0m\u001b[0mepoch\u001b[0m \u001b[0;34m%\u001b[0m \u001b[0;36m5\u001b[0m \u001b[0;34m==\u001b[0m \u001b[0;36m0\u001b[0m\u001b[0;34m)\u001b[0m\u001b[0;34m:\u001b[0m\u001b[0;34m\u001b[0m\u001b[0;34m\u001b[0m\u001b[0m\n\u001b[1;32m     34\u001b[0m         \u001b[0mwrapper\u001b[0m \u001b[0;34m=\u001b[0m \u001b[0mimplicitWrapper\u001b[0m\u001b[0;34m(\u001b[0m\u001b[0mvae\u001b[0m\u001b[0;34m,\u001b[0m \u001b[0mtr_tr\u001b[0m\u001b[0;34m,\u001b[0m \u001b[0mtensor_wrapper\u001b[0m\u001b[0;34m=\u001b[0m\u001b[0mnaive_sparse2tensor\u001b[0m\u001b[0;34m,\u001b[0m \u001b[0mvae\u001b[0m\u001b[0;34m=\u001b[0m\u001b[0;32mTrue\u001b[0m\u001b[0;34m)\u001b[0m\u001b[0;34m\u001b[0m\u001b[0;34m\u001b[0m\u001b[0m\n\u001b[0;32m---> 35\u001b[0;31m         \u001b[0mval_ndcg_10\u001b[0m \u001b[0;34m=\u001b[0m \u001b[0mranking_metrics_at_k\u001b[0m\u001b[0;34m(\u001b[0m\u001b[0mwrapper\u001b[0m\u001b[0;34m,\u001b[0m \u001b[0mtr_tr\u001b[0m\u001b[0;34m,\u001b[0m \u001b[0mtr_val\u001b[0m\u001b[0;34m,\u001b[0m \u001b[0mK\u001b[0m\u001b[0;34m=\u001b[0m\u001b[0;36m30\u001b[0m\u001b[0;34m,\u001b[0m \u001b[0mnum_threads\u001b[0m\u001b[0;34m=\u001b[0m\u001b[0;36m6\u001b[0m\u001b[0;34m)\u001b[0m\u001b[0;34m\u001b[0m\u001b[0;34m\u001b[0m\u001b[0m\n\u001b[0m\u001b[1;32m     36\u001b[0m         \u001b[0mmp\u001b[0m \u001b[0;34m=\u001b[0m \u001b[0mmax\u001b[0m\u001b[0;34m(\u001b[0m\u001b[0mmp\u001b[0m\u001b[0;34m,\u001b[0m \u001b[0mval_ndcg_10\u001b[0m\u001b[0;34m[\u001b[0m\u001b[0;34m'ndcg'\u001b[0m\u001b[0;34m]\u001b[0m\u001b[0;34m)\u001b[0m\u001b[0;34m\u001b[0m\u001b[0;34m\u001b[0m\u001b[0m\n\u001b[1;32m     37\u001b[0m         \u001b[0mprint\u001b[0m\u001b[0;34m(\u001b[0m\u001b[0mmp\u001b[0m\u001b[0;34m)\u001b[0m\u001b[0;34m\u001b[0m\u001b[0;34m\u001b[0m\u001b[0m\n",
      "\u001b[0;32mrec_eval.pyx\u001b[0m in \u001b[0;36mrec_eval.ranking_metrics_at_k\u001b[0;34m()\u001b[0m\n",
      "\u001b[0;32m~/code/neurank/code/models/ae.py\u001b[0m in \u001b[0;36mrecommend\u001b[0;34m(self, userid, user_items, N)\u001b[0m\n\u001b[1;32m     18\u001b[0m         \u001b[0mself\u001b[0m\u001b[0;34m.\u001b[0m\u001b[0mu\u001b[0m\u001b[0;34m[\u001b[0m\u001b[0;36m0\u001b[0m\u001b[0;34m]\u001b[0m \u001b[0;34m=\u001b[0m \u001b[0muserid\u001b[0m\u001b[0;34m\u001b[0m\u001b[0;34m\u001b[0m\u001b[0m\n\u001b[1;32m     19\u001b[0m         \u001b[0;31m# calculate the top N items, removing the users own liked items from the results\u001b[0m\u001b[0;34m\u001b[0m\u001b[0;34m\u001b[0m\u001b[0;34m\u001b[0m\u001b[0m\n\u001b[0;32m---> 20\u001b[0;31m         \u001b[0mi\u001b[0m \u001b[0;34m=\u001b[0m \u001b[0mself\u001b[0m\u001b[0;34m.\u001b[0m\u001b[0mtensor_wrapper\u001b[0m\u001b[0;34m(\u001b[0m\u001b[0mself\u001b[0m\u001b[0;34m.\u001b[0m\u001b[0mtr_csr\u001b[0m\u001b[0;34m[\u001b[0m\u001b[0muserid\u001b[0m\u001b[0;34m]\u001b[0m\u001b[0;34m)\u001b[0m\u001b[0;34m.\u001b[0m\u001b[0mcuda\u001b[0m\u001b[0;34m(\u001b[0m\u001b[0;34m)\u001b[0m\u001b[0;34m\u001b[0m\u001b[0;34m\u001b[0m\u001b[0m\n\u001b[0m\u001b[1;32m     21\u001b[0m         \u001b[0;32mif\u001b[0m \u001b[0mself\u001b[0m\u001b[0;34m.\u001b[0m\u001b[0mvae\u001b[0m\u001b[0;34m:\u001b[0m\u001b[0;34m\u001b[0m\u001b[0;34m\u001b[0m\u001b[0m\n\u001b[1;32m     22\u001b[0m             \u001b[0mscores\u001b[0m\u001b[0;34m,\u001b[0m \u001b[0m_\u001b[0m\u001b[0;34m,\u001b[0m \u001b[0m_\u001b[0m \u001b[0;34m=\u001b[0m \u001b[0mself\u001b[0m\u001b[0;34m.\u001b[0m\u001b[0mmodel\u001b[0m\u001b[0;34m(\u001b[0m\u001b[0mi\u001b[0m\u001b[0;34m)\u001b[0m\u001b[0;34m\u001b[0m\u001b[0;34m\u001b[0m\u001b[0m\n",
      "\u001b[0;32m~/anaconda3/lib/python3.7/site-packages/scipy/sparse/_index.py\u001b[0m in \u001b[0;36m__getitem__\u001b[0;34m(self, key)\u001b[0m\n\u001b[1;32m     39\u001b[0m                 \u001b[0;32mreturn\u001b[0m \u001b[0mself\u001b[0m\u001b[0;34m.\u001b[0m\u001b[0m_get_intXint\u001b[0m\u001b[0;34m(\u001b[0m\u001b[0mrow\u001b[0m\u001b[0;34m,\u001b[0m \u001b[0mcol\u001b[0m\u001b[0;34m)\u001b[0m\u001b[0;34m\u001b[0m\u001b[0;34m\u001b[0m\u001b[0m\n\u001b[1;32m     40\u001b[0m             \u001b[0;32melif\u001b[0m \u001b[0misinstance\u001b[0m\u001b[0;34m(\u001b[0m\u001b[0mcol\u001b[0m\u001b[0;34m,\u001b[0m \u001b[0mslice\u001b[0m\u001b[0;34m)\u001b[0m\u001b[0;34m:\u001b[0m\u001b[0;34m\u001b[0m\u001b[0;34m\u001b[0m\u001b[0m\n\u001b[0;32m---> 41\u001b[0;31m                 \u001b[0;32mreturn\u001b[0m \u001b[0mself\u001b[0m\u001b[0;34m.\u001b[0m\u001b[0m_get_intXslice\u001b[0m\u001b[0;34m(\u001b[0m\u001b[0mrow\u001b[0m\u001b[0;34m,\u001b[0m \u001b[0mcol\u001b[0m\u001b[0;34m)\u001b[0m\u001b[0;34m\u001b[0m\u001b[0;34m\u001b[0m\u001b[0m\n\u001b[0m\u001b[1;32m     42\u001b[0m             \u001b[0;32melif\u001b[0m \u001b[0mcol\u001b[0m\u001b[0;34m.\u001b[0m\u001b[0mndim\u001b[0m \u001b[0;34m==\u001b[0m \u001b[0;36m1\u001b[0m\u001b[0;34m:\u001b[0m\u001b[0;34m\u001b[0m\u001b[0;34m\u001b[0m\u001b[0m\n\u001b[1;32m     43\u001b[0m                 \u001b[0;32mreturn\u001b[0m \u001b[0mself\u001b[0m\u001b[0;34m.\u001b[0m\u001b[0m_get_intXarray\u001b[0m\u001b[0;34m(\u001b[0m\u001b[0mrow\u001b[0m\u001b[0;34m,\u001b[0m \u001b[0mcol\u001b[0m\u001b[0;34m)\u001b[0m\u001b[0;34m\u001b[0m\u001b[0;34m\u001b[0m\u001b[0m\n",
      "\u001b[0;32m~/anaconda3/lib/python3.7/site-packages/scipy/sparse/csr.py\u001b[0m in \u001b[0;36m_get_intXslice\u001b[0;34m(self, row, col)\u001b[0m\n\u001b[1;32m    277\u001b[0m     \u001b[0;32mdef\u001b[0m \u001b[0m_get_intXslice\u001b[0m\u001b[0;34m(\u001b[0m\u001b[0mself\u001b[0m\u001b[0;34m,\u001b[0m \u001b[0mrow\u001b[0m\u001b[0;34m,\u001b[0m \u001b[0mcol\u001b[0m\u001b[0;34m)\u001b[0m\u001b[0;34m:\u001b[0m\u001b[0;34m\u001b[0m\u001b[0;34m\u001b[0m\u001b[0m\n\u001b[1;32m    278\u001b[0m         \u001b[0;32mif\u001b[0m \u001b[0mcol\u001b[0m\u001b[0;34m.\u001b[0m\u001b[0mstep\u001b[0m \u001b[0;32min\u001b[0m \u001b[0;34m(\u001b[0m\u001b[0;36m1\u001b[0m\u001b[0;34m,\u001b[0m \u001b[0;32mNone\u001b[0m\u001b[0;34m)\u001b[0m\u001b[0;34m:\u001b[0m\u001b[0;34m\u001b[0m\u001b[0;34m\u001b[0m\u001b[0m\n\u001b[0;32m--> 279\u001b[0;31m             \u001b[0;32mreturn\u001b[0m \u001b[0mself\u001b[0m\u001b[0;34m.\u001b[0m\u001b[0m_get_submatrix\u001b[0m\u001b[0;34m(\u001b[0m\u001b[0mrow\u001b[0m\u001b[0;34m,\u001b[0m \u001b[0mcol\u001b[0m\u001b[0;34m,\u001b[0m \u001b[0mcopy\u001b[0m\u001b[0;34m=\u001b[0m\u001b[0;32mTrue\u001b[0m\u001b[0;34m)\u001b[0m\u001b[0;34m\u001b[0m\u001b[0;34m\u001b[0m\u001b[0m\n\u001b[0m\u001b[1;32m    280\u001b[0m         \u001b[0;31m# TODO: uncomment this once it's faster:\u001b[0m\u001b[0;34m\u001b[0m\u001b[0;34m\u001b[0m\u001b[0;34m\u001b[0m\u001b[0m\n\u001b[1;32m    281\u001b[0m         \u001b[0;31m# return self.getrow(row)._minor_slice(col)\u001b[0m\u001b[0;34m\u001b[0m\u001b[0;34m\u001b[0m\u001b[0;34m\u001b[0m\u001b[0m\n",
      "\u001b[0;32m~/anaconda3/lib/python3.7/site-packages/scipy/sparse/compressed.py\u001b[0m in \u001b[0;36m_get_submatrix\u001b[0;34m(self, major, minor, copy)\u001b[0m\n\u001b[1;32m    792\u001b[0m         \u001b[0mshape\u001b[0m \u001b[0;34m=\u001b[0m \u001b[0mself\u001b[0m\u001b[0;34m.\u001b[0m\u001b[0m_swap\u001b[0m\u001b[0;34m(\u001b[0m\u001b[0;34m(\u001b[0m\u001b[0mi1\u001b[0m \u001b[0;34m-\u001b[0m \u001b[0mi0\u001b[0m\u001b[0;34m,\u001b[0m \u001b[0mj1\u001b[0m \u001b[0;34m-\u001b[0m \u001b[0mj0\u001b[0m\u001b[0;34m)\u001b[0m\u001b[0;34m)\u001b[0m\u001b[0;34m\u001b[0m\u001b[0;34m\u001b[0m\u001b[0m\n\u001b[1;32m    793\u001b[0m         return self.__class__((data, indices, indptr), shape=shape,\n\u001b[0;32m--> 794\u001b[0;31m                               dtype=self.dtype, copy=False)\n\u001b[0m\u001b[1;32m    795\u001b[0m \u001b[0;34m\u001b[0m\u001b[0m\n\u001b[1;32m    796\u001b[0m     \u001b[0;32mdef\u001b[0m \u001b[0m_set_intXint\u001b[0m\u001b[0;34m(\u001b[0m\u001b[0mself\u001b[0m\u001b[0;34m,\u001b[0m \u001b[0mrow\u001b[0m\u001b[0;34m,\u001b[0m \u001b[0mcol\u001b[0m\u001b[0;34m,\u001b[0m \u001b[0mx\u001b[0m\u001b[0;34m)\u001b[0m\u001b[0;34m:\u001b[0m\u001b[0;34m\u001b[0m\u001b[0;34m\u001b[0m\u001b[0m\n",
      "\u001b[0;32m~/anaconda3/lib/python3.7/site-packages/scipy/sparse/compressed.py\u001b[0m in \u001b[0;36m__init__\u001b[0;34m(self, arg1, shape, dtype, copy)\u001b[0m\n\u001b[1;32m     90\u001b[0m         \u001b[0;31m# Read matrix dimensions given, if any\u001b[0m\u001b[0;34m\u001b[0m\u001b[0;34m\u001b[0m\u001b[0;34m\u001b[0m\u001b[0m\n\u001b[1;32m     91\u001b[0m         \u001b[0;32mif\u001b[0m \u001b[0mshape\u001b[0m \u001b[0;32mis\u001b[0m \u001b[0;32mnot\u001b[0m \u001b[0;32mNone\u001b[0m\u001b[0;34m:\u001b[0m\u001b[0;34m\u001b[0m\u001b[0;34m\u001b[0m\u001b[0m\n\u001b[0;32m---> 92\u001b[0;31m             \u001b[0mself\u001b[0m\u001b[0;34m.\u001b[0m\u001b[0m_shape\u001b[0m \u001b[0;34m=\u001b[0m \u001b[0mcheck_shape\u001b[0m\u001b[0;34m(\u001b[0m\u001b[0mshape\u001b[0m\u001b[0;34m)\u001b[0m\u001b[0;34m\u001b[0m\u001b[0;34m\u001b[0m\u001b[0m\n\u001b[0m\u001b[1;32m     93\u001b[0m         \u001b[0;32melse\u001b[0m\u001b[0;34m:\u001b[0m\u001b[0;34m\u001b[0m\u001b[0;34m\u001b[0m\u001b[0m\n\u001b[1;32m     94\u001b[0m             \u001b[0;32mif\u001b[0m \u001b[0mself\u001b[0m\u001b[0;34m.\u001b[0m\u001b[0mshape\u001b[0m \u001b[0;32mis\u001b[0m \u001b[0;32mNone\u001b[0m\u001b[0;34m:\u001b[0m\u001b[0;34m\u001b[0m\u001b[0;34m\u001b[0m\u001b[0m\n",
      "\u001b[0;32m~/anaconda3/lib/python3.7/site-packages/scipy/sparse/sputils.py\u001b[0m in \u001b[0;36mcheck_shape\u001b[0;34m(args, current_shape)\u001b[0m\n\u001b[1;32m    278\u001b[0m             \u001b[0mnew_shape\u001b[0m \u001b[0;34m=\u001b[0m \u001b[0mtuple\u001b[0m\u001b[0;34m(\u001b[0m\u001b[0moperator\u001b[0m\u001b[0;34m.\u001b[0m\u001b[0mindex\u001b[0m\u001b[0;34m(\u001b[0m\u001b[0marg\u001b[0m\u001b[0;34m)\u001b[0m \u001b[0;32mfor\u001b[0m \u001b[0marg\u001b[0m \u001b[0;32min\u001b[0m \u001b[0mshape_iter\u001b[0m\u001b[0;34m)\u001b[0m\u001b[0;34m\u001b[0m\u001b[0;34m\u001b[0m\u001b[0m\n\u001b[1;32m    279\u001b[0m     \u001b[0;32melse\u001b[0m\u001b[0;34m:\u001b[0m\u001b[0;34m\u001b[0m\u001b[0;34m\u001b[0m\u001b[0m\n\u001b[0;32m--> 280\u001b[0;31m         \u001b[0mnew_shape\u001b[0m \u001b[0;34m=\u001b[0m \u001b[0mtuple\u001b[0m\u001b[0;34m(\u001b[0m\u001b[0moperator\u001b[0m\u001b[0;34m.\u001b[0m\u001b[0mindex\u001b[0m\u001b[0;34m(\u001b[0m\u001b[0marg\u001b[0m\u001b[0;34m)\u001b[0m \u001b[0;32mfor\u001b[0m \u001b[0marg\u001b[0m \u001b[0;32min\u001b[0m \u001b[0margs\u001b[0m\u001b[0;34m)\u001b[0m\u001b[0;34m\u001b[0m\u001b[0;34m\u001b[0m\u001b[0m\n\u001b[0m\u001b[1;32m    281\u001b[0m \u001b[0;34m\u001b[0m\u001b[0m\n\u001b[1;32m    282\u001b[0m     \u001b[0;32mif\u001b[0m \u001b[0mcurrent_shape\u001b[0m \u001b[0;32mis\u001b[0m \u001b[0;32mNone\u001b[0m\u001b[0;34m:\u001b[0m\u001b[0;34m\u001b[0m\u001b[0;34m\u001b[0m\u001b[0m\n",
      "\u001b[0;32m~/anaconda3/lib/python3.7/site-packages/scipy/sparse/sputils.py\u001b[0m in \u001b[0;36m<genexpr>\u001b[0;34m(.0)\u001b[0m\n\u001b[1;32m    278\u001b[0m             \u001b[0mnew_shape\u001b[0m \u001b[0;34m=\u001b[0m \u001b[0mtuple\u001b[0m\u001b[0;34m(\u001b[0m\u001b[0moperator\u001b[0m\u001b[0;34m.\u001b[0m\u001b[0mindex\u001b[0m\u001b[0;34m(\u001b[0m\u001b[0marg\u001b[0m\u001b[0;34m)\u001b[0m \u001b[0;32mfor\u001b[0m \u001b[0marg\u001b[0m \u001b[0;32min\u001b[0m \u001b[0mshape_iter\u001b[0m\u001b[0;34m)\u001b[0m\u001b[0;34m\u001b[0m\u001b[0;34m\u001b[0m\u001b[0m\n\u001b[1;32m    279\u001b[0m     \u001b[0;32melse\u001b[0m\u001b[0;34m:\u001b[0m\u001b[0;34m\u001b[0m\u001b[0;34m\u001b[0m\u001b[0m\n\u001b[0;32m--> 280\u001b[0;31m         \u001b[0mnew_shape\u001b[0m \u001b[0;34m=\u001b[0m \u001b[0mtuple\u001b[0m\u001b[0;34m(\u001b[0m\u001b[0moperator\u001b[0m\u001b[0;34m.\u001b[0m\u001b[0mindex\u001b[0m\u001b[0;34m(\u001b[0m\u001b[0marg\u001b[0m\u001b[0;34m)\u001b[0m \u001b[0;32mfor\u001b[0m \u001b[0marg\u001b[0m \u001b[0;32min\u001b[0m \u001b[0margs\u001b[0m\u001b[0;34m)\u001b[0m\u001b[0;34m\u001b[0m\u001b[0;34m\u001b[0m\u001b[0m\n\u001b[0m\u001b[1;32m    281\u001b[0m \u001b[0;34m\u001b[0m\u001b[0m\n\u001b[1;32m    282\u001b[0m     \u001b[0;32mif\u001b[0m \u001b[0mcurrent_shape\u001b[0m \u001b[0;32mis\u001b[0m \u001b[0;32mNone\u001b[0m\u001b[0;34m:\u001b[0m\u001b[0;34m\u001b[0m\u001b[0;34m\u001b[0m\u001b[0m\n",
      "\u001b[0;31mKeyboardInterrupt\u001b[0m: "
     ]
    }
   ],
   "source": [
    "n_users, n_items = tr_tr.shape\n",
    "dropout=0.5\n",
    "import models\n",
    "importlib.reload(models)\n",
    "ae_dataset = AEDataset(tr_tr)\n",
    "loader = DataLoader(ae_dataset, batch_size=512, shuffle=True, num_workers=6)\n",
    "from neuralsort import neuralobjs\n",
    "sc = neuralobjs.SC()\n",
    "vae = models.ae.MultiVAE(\n",
    "    [256, n_items],\n",
    "    dropout=dropout).cuda()\n",
    "lamb = 0.00\n",
    "optimizer = torch.optim.RMSprop(vae.parameters(), lr=1 * 1e-3)\n",
    "from scipy.sparse import csr_matrix\n",
    "i = 0\n",
    "mp = 0\n",
    "for epoch in range(1, n_epochs + 1):\n",
    "    tot_loss = 0\n",
    "    tot_loss2 = 0 \n",
    "    tot_loss3 = 0\n",
    "    vae.train()\n",
    "\n",
    "    for uid, rowl in (loader):\n",
    "        row = rowl.float().cuda()\n",
    "        uid = uid.cuda() \n",
    "        scores, mu, logvar = vae.forward(row)\n",
    "        loss1  = models.ae.loss_function(scores, row, mu, logvar, anneal=1.0)\n",
    "        loss2 = models.loss.neuPrecLoss(sc, scores, row, topk=100, k=10, tau=15.0).mean()\n",
    "        (loss1 + 1e-3 * loss2).backward()\n",
    "        optimizer.step()\n",
    "        #print(loss1.mean().cpu().detach().numpy(), loss2.mean().detach().cpu().numpy())\n",
    "    vae.eval()\n",
    "    if (epoch % 5 == 0):\n",
    "        wrapper = implicitWrapper(vae, tr_tr, tensor_wrapper=naive_sparse2tensor, vae=True)\n",
    "        val_ndcg_10 = ranking_metrics_at_k(wrapper, tr_tr, tr_val, K=30, num_threads=6)\n",
    "        mp = max(mp, val_ndcg_10['ndcg'])\n",
    "        print(mp)\n"
   ]
  },
  {
   "cell_type": "code",
   "execution_count": null,
   "metadata": {},
   "outputs": [],
   "source": []
  }
 ],
 "metadata": {
  "kernelspec": {
   "display_name": "Python 3",
   "language": "python",
   "name": "python3"
  },
  "language_info": {
   "codemirror_mode": {
    "name": "ipython",
    "version": 3
   },
   "file_extension": ".py",
   "mimetype": "text/x-python",
   "name": "python",
   "nbconvert_exporter": "python",
   "pygments_lexer": "ipython3",
   "version": "3.7.6"
  }
 },
 "nbformat": 4,
 "nbformat_minor": 2
}
